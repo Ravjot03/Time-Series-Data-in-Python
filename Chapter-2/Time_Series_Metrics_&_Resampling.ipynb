{
  "nbformat": 4,
  "nbformat_minor": 0,
  "metadata": {
    "colab": {
      "name": "Time_Series_Metrics_&_Resampling_Manipulating_Chapter-2_DataCamp.ipynb",
      "provenance": [],
      "collapsed_sections": [],
      "toc_visible": true
    },
    "kernelspec": {
      "name": "python3",
      "display_name": "Python 3"
    }
  },
  "cells": [
    {
      "cell_type": "markdown",
      "metadata": {
        "id": "tp3OnLhLMXes"
      },
      "source": [
        "# Time Series Metrics and Resampling"
      ]
    },
    {
      "cell_type": "markdown",
      "metadata": {
        "id": "Z_x1f-oLMWG5"
      },
      "source": [
        "## Work By - **RAVJOT SINGH**\r\n",
        "\r\n",
        "E-Mail - ravjot313@gmail.com\r\n",
        "\r\n",
        "Website - https://ravjot03.github.io/\r\n",
        "\r\n",
        "LinkedIn - https://www.linkedin.com/in/ravjot03/\r\n",
        "\r\n",
        "GitHub - https://github.com/Ravjot03\r\n",
        "\r\n",
        "Medium - https://medium.com/@ravjot03"
      ]
    },
    {
      "cell_type": "markdown",
      "metadata": {
        "id": "Ku6aYu2TYegg"
      },
      "source": [
        "## Table of Contents\r\n",
        "\r\n",
        "---\r\n",
        "\r\n",
        "1  Comparing time series growth rates\r\n",
        "\r\n",
        "1.1 Importing the required libraries\r\n",
        "\r\n",
        "1.2 Google Stock Prices Data\r\n",
        "\r\n",
        "1.21 Loading and Inspecting the data\r\n",
        "\r\n",
        "1.22 Normalizing a single series\r\n",
        "\r\n",
        "1.3 Asset Classes Data\r\n",
        "\r\n",
        "1.31 Loading and Inspecting the data\r\n",
        "\r\n",
        "1.32 Normalizing multiple series\r\n",
        "\r\n",
        "1.4 Microsoft-Apple Data\r\n",
        "\r\n",
        "1.41 Loading and Inspecting the data\r\n",
        "\r\n",
        "1.42 Comparing stock prices with a benchmark\r\n",
        "\r\n",
        "---\r\n",
        "\r\n",
        "2 Changing the time series frequency: Resampling\r\n",
        "\r\n",
        "2.1 Method-1\r\n",
        "\r\n",
        "2.11 Upsampling: quaterly => monthly\r\n",
        "\r\n",
        "2.12 Upsampling: Fill methods\r\n",
        "\r\n",
        "2.2 Method-2\r\n",
        "\r\n",
        "2.21 Add missing values using .reindex()\r\n",
        "\r\n",
        "2.3 US Unemployment Data\r\n",
        "\r\n",
        "2.31 Loading and Inspecting the data\r\n",
        "\r\n",
        "2.32 Upsampling data: Monthly => Weekly\r\n",
        "\r\n",
        "---\r\n",
        "\r\n",
        "3 Upsampling & Interpolation with .resample\r\n",
        "\r\n",
        "3.1 .resample() function\r\n",
        "\r\n",
        "3.11 Loading and Inspecting the data\r\n",
        "\r\n",
        "3.12 Assign frequency with .resample()\r\n",
        "\r\n",
        "3.2 Interpolation\r\n",
        "\r\n",
        "3.21 US Unemployment Data\r\n",
        "\r\n",
        "3.22 Debt-Unemployment Data\r\n",
        "\r\n",
        "3.23 GDP Growth Data\r\n",
        "\r\n",
        "---\r\n",
        "\r\n",
        "4 Downsampling & Aggregation methods\r\n",
        "\r\n",
        "4.1 Ozone Data - NYC\r\n",
        "\r\n",
        "4.2 GDP Growth and DJIA Data\r\n",
        "\r\n",
        "---\r\n",
        "\r\n",
        "Conclusion\r\n",
        "\r\n",
        "---"
      ]
    },
    {
      "cell_type": "markdown",
      "metadata": {
        "id": "Yzng9O-jNfWY"
      },
      "source": [
        "##1.Comparing time series growth rates"
      ]
    },
    {
      "cell_type": "markdown",
      "metadata": {
        "id": "aspNja9GMmMI"
      },
      "source": [
        "How to compare stock performances ?\r\n",
        "\r\n",
        "Stock prices time series are hard to compare at different levels.\r\n",
        "\r\n",
        "Simple solution is --> To normalize price series to start at 100.\r\n",
        "\r\n",
        "1.  Divide all prices by first in series, then multiply by 100.\r\n",
        "2.  All prices will become relative to starting point.\r\n",
        "3.  Difference to starting point in percentage points."
      ]
    },
    {
      "cell_type": "markdown",
      "metadata": {
        "id": "QhCqPvvsNsXs"
      },
      "source": [
        "###1.1 Importing the required libraries"
      ]
    },
    {
      "cell_type": "code",
      "metadata": {
        "id": "oWJ3LCkGHlA7"
      },
      "source": [
        "import pandas as pd\r\n",
        "import matplotlib.pyplot as plt"
      ],
      "execution_count": null,
      "outputs": []
    },
    {
      "cell_type": "markdown",
      "metadata": {
        "id": "S15YJgYEJHWO"
      },
      "source": [
        "###1.2 Google Stock Prices Data"
      ]
    },
    {
      "cell_type": "markdown",
      "metadata": {
        "id": "uWnBYBexOWZA"
      },
      "source": [
        "####1.21 Loading and Inspecting the data"
      ]
    },
    {
      "cell_type": "code",
      "metadata": {
        "colab": {
          "base_uri": "https://localhost:8080/"
        },
        "id": "3bW90M2_HupG",
        "outputId": "b47f4020-f54c-4c2f-8c1f-b4a9fe380bec"
      },
      "source": [
        "google = pd.read_csv('google.csv', parse_dates=['Date'], index_col='Date')\r\n",
        "google.dropna(axis=0, inplace=True)\r\n",
        "google.info()"
      ],
      "execution_count": null,
      "outputs": [
        {
          "output_type": "stream",
          "text": [
            "<class 'pandas.core.frame.DataFrame'>\n",
            "DatetimeIndex: 756 entries, 2014-01-02 to 2016-12-30\n",
            "Data columns (total 1 columns):\n",
            " #   Column  Non-Null Count  Dtype  \n",
            "---  ------  --------------  -----  \n",
            " 0   Close   756 non-null    float64\n",
            "dtypes: float64(1)\n",
            "memory usage: 11.8 KB\n"
          ],
          "name": "stdout"
        }
      ]
    },
    {
      "cell_type": "markdown",
      "metadata": {
        "id": "eaMgyGTkOnYs"
      },
      "source": [
        "####1.22 Normalizing a single series"
      ]
    },
    {
      "cell_type": "code",
      "metadata": {
        "colab": {
          "base_uri": "https://localhost:8080/"
        },
        "id": "6QV94YHxIDP-",
        "outputId": "2732c0d4-de85-431d-b15a-1d0f98605fa1"
      },
      "source": [
        "first_price = google.Close.iloc[0] #selecting the 1st value from the data using .loc() function\r\n",
        "first_price"
      ],
      "execution_count": null,
      "outputs": [
        {
          "output_type": "execute_result",
          "data": {
            "text/plain": [
              "556.0"
            ]
          },
          "metadata": {
            "tags": []
          },
          "execution_count": 3
        }
      ]
    },
    {
      "cell_type": "code",
      "metadata": {
        "colab": {
          "base_uri": "https://localhost:8080/",
          "height": 311
        },
        "id": "wCwirLSWIPh5",
        "outputId": "a220250e-a5ef-402a-b6fb-19c11c3a14a4"
      },
      "source": [
        "normalized = google.Close.div(first_price).mul(100)\r\n",
        "normalized.plot(title = \"Google Normalized Prices\")"
      ],
      "execution_count": null,
      "outputs": [
        {
          "output_type": "execute_result",
          "data": {
            "text/plain": [
              "<matplotlib.axes._subplots.AxesSubplot at 0x7f363ae7ecc0>"
            ]
          },
          "metadata": {
            "tags": []
          },
          "execution_count": 4
        },
        {
          "output_type": "display_data",
          "data": {
            "image/png": "[encoded data removed]",
            "text/plain": [
              "<Figure size 432x288 with 1 Axes>"
            ]
          },
          "metadata": {
            "tags": [],
            "needs_background": "light"
          }
        }
      ]
    },
    {
      "cell_type": "code",
      "metadata": {
        "colab": {
          "base_uri": "https://localhost:8080/"
        },
        "id": "F4Qd3Lp1IgoX",
        "outputId": "7ae22c8d-e18c-43ae-f094-f98bc8340b4b"
      },
      "source": [
        "normalized.head()"
      ],
      "execution_count": null,
      "outputs": [
        {
          "output_type": "execute_result",
          "data": {
            "text/plain": [
              "Date\n",
              "2014-01-02    100.000000\n",
              "2014-01-03     99.271583\n",
              "2014-01-06    100.377698\n",
              "2014-01-07    102.312950\n",
              "2014-01-08    102.525180\n",
              "Name: Close, dtype: float64"
            ]
          },
          "metadata": {
            "tags": []
          },
          "execution_count": 5
        }
      ]
    },
    {
      "cell_type": "markdown",
      "metadata": {
        "id": "qP3K1GpaJJv-"
      },
      "source": [
        "###1.3 Asset Classes Data"
      ]
    },
    {
      "cell_type": "markdown",
      "metadata": {
        "id": "t1KpVTA0O66B"
      },
      "source": [
        "####1.31 Loading and Inspecting the data"
      ]
    },
    {
      "cell_type": "code",
      "metadata": {
        "colab": {
          "base_uri": "https://localhost:8080/"
        },
        "id": "6Tc-GoA8JGbn",
        "outputId": "e2f771ce-c8e4-4d75-b5d5-61a09fd5909c"
      },
      "source": [
        "prices = pd.read_csv(\"asset_classes.csv\", parse_dates=['DATE'], index_col='DATE')\r\n",
        "prices.info()"
      ],
      "execution_count": null,
      "outputs": [
        {
          "output_type": "stream",
          "text": [
            "<class 'pandas.core.frame.DataFrame'>\n",
            "DatetimeIndex: 2469 entries, 2007-06-29 to 2017-06-26\n",
            "Data columns (total 4 columns):\n",
            " #   Column  Non-Null Count  Dtype  \n",
            "---  ------  --------------  -----  \n",
            " 0   SP500   2469 non-null   float64\n",
            " 1   Bonds   2469 non-null   float64\n",
            " 2   Gold    2469 non-null   float64\n",
            " 3   Oil     2469 non-null   float64\n",
            "dtypes: float64(4)\n",
            "memory usage: 96.4 KB\n"
          ],
          "name": "stdout"
        }
      ]
    },
    {
      "cell_type": "markdown",
      "metadata": {
        "id": "3GEX0gqVPA8g"
      },
      "source": [
        "####1.32 Normalizing multiple series"
      ]
    },
    {
      "cell_type": "code",
      "metadata": {
        "colab": {
          "base_uri": "https://localhost:8080/",
          "height": 287
        },
        "id": "T5USuzPRJmeu",
        "outputId": "c414ac15-9701-4283-b652-9227166289d2"
      },
      "source": [
        "normalized = prices.div(prices.iloc[0]).mul(100)\r\n",
        "normalized.plot()"
      ],
      "execution_count": null,
      "outputs": [
        {
          "output_type": "execute_result",
          "data": {
            "text/plain": [
              "<matplotlib.axes._subplots.AxesSubplot at 0x7f363ad446d8>"
            ]
          },
          "metadata": {
            "tags": []
          },
          "execution_count": 7
        },
        {
          "output_type": "display_data",
          "data": {
            "image/png": "[encoded data removed]",
            "text/plain": [
              "<Figure size 432x288 with 1 Axes>"
            ]
          },
          "metadata": {
            "tags": [],
            "needs_background": "light"
          }
        }
      ]
    },
    {
      "cell_type": "markdown",
      "metadata": {
        "id": "WaU74MqlKhWY"
      },
      "source": [
        "###1.4 Microsoft-Apple Data (MSFT-AAPL)"
      ]
    },
    {
      "cell_type": "markdown",
      "metadata": {
        "id": "nREzZyn9Pn_7"
      },
      "source": [
        "####1.41 Loading and Inspecting the data"
      ]
    },
    {
      "cell_type": "code",
      "metadata": {
        "colab": {
          "base_uri": "https://localhost:8080/"
        },
        "id": "KtFOcmaiKj73",
        "outputId": "033bc4f7-a9ad-4474-f77c-e096ae09b474"
      },
      "source": [
        "stocks = pd.read_csv('msft_aapl.csv', parse_dates=['date'], index_col='date')\r\n",
        "stocks.info()"
      ],
      "execution_count": null,
      "outputs": [
        {
          "output_type": "stream",
          "text": [
            "<class 'pandas.core.frame.DataFrame'>\n",
            "DatetimeIndex: 2517 entries, 2007-01-03 to 2016-12-30\n",
            "Data columns (total 2 columns):\n",
            " #   Column  Non-Null Count  Dtype  \n",
            "---  ------  --------------  -----  \n",
            " 0   AAPL    2517 non-null   float64\n",
            " 1   MSFT    2517 non-null   float64\n",
            "dtypes: float64(2)\n",
            "memory usage: 59.0 KB\n"
          ],
          "name": "stdout"
        }
      ]
    },
    {
      "cell_type": "markdown",
      "metadata": {
        "id": "63kzo6d4Pz30"
      },
      "source": [
        "####1.42 Comparing stock prices with a benchmark"
      ]
    },
    {
      "cell_type": "markdown",
      "metadata": {
        "id": "e5bDD5rJQAvj"
      },
      "source": [
        "Create the list `tickers` containing the two stock symbols."
      ]
    },
    {
      "cell_type": "code",
      "metadata": {
        "id": "emxFMk3AK0ne"
      },
      "source": [
        "tickers = ['AAPL','MSFT']"
      ],
      "execution_count": null,
      "outputs": []
    },
    {
      "cell_type": "markdown",
      "metadata": {
        "id": "-lKRSenXQMQp"
      },
      "source": [
        "Loading the benchmark dataset with which we'll be comparing the stock prices data."
      ]
    },
    {
      "cell_type": "markdown",
      "metadata": {
        "id": "IgXa3sqOQ64h"
      },
      "source": [
        "We are comparing the performance of Microsoft (MSFT) and Apple (AAPL) to the S&P 500 over the last 10 years."
      ]
    },
    {
      "cell_type": "code",
      "metadata": {
        "colab": {
          "base_uri": "https://localhost:8080/"
        },
        "id": "s5jBfxPRK3p3",
        "outputId": "3a4e47ba-8478-45cc-b120-4357cc1d9521"
      },
      "source": [
        "index = pd.read_csv('sp500.csv', parse_dates=['date'], index_col='date')\r\n",
        "index.info()"
      ],
      "execution_count": null,
      "outputs": [
        {
          "output_type": "stream",
          "text": [
            "<class 'pandas.core.frame.DataFrame'>\n",
            "DatetimeIndex: 2395 entries, 2007-06-29 to 2016-12-30\n",
            "Data columns (total 1 columns):\n",
            " #   Column  Non-Null Count  Dtype  \n",
            "---  ------  --------------  -----  \n",
            " 0   SP500   2395 non-null   float64\n",
            "dtypes: float64(1)\n",
            "memory usage: 37.4 KB\n"
          ],
          "name": "stdout"
        }
      ]
    },
    {
      "cell_type": "markdown",
      "metadata": {
        "id": "d_qbwNmvRDIX"
      },
      "source": [
        "To concatenate both the datasets along axis=1"
      ]
    },
    {
      "cell_type": "code",
      "metadata": {
        "colab": {
          "base_uri": "https://localhost:8080/"
        },
        "id": "bNH42jM8LCgp",
        "outputId": "d5508bb1-3e17-4852-bbfc-9966e0cfb011"
      },
      "source": [
        "df = pd.concat([stocks, index], axis=1)\r\n",
        "df.info()"
      ],
      "execution_count": null,
      "outputs": [
        {
          "output_type": "stream",
          "text": [
            "<class 'pandas.core.frame.DataFrame'>\n",
            "DatetimeIndex: 2518 entries, 2007-01-03 to 2016-12-30\n",
            "Data columns (total 3 columns):\n",
            " #   Column  Non-Null Count  Dtype  \n",
            "---  ------  --------------  -----  \n",
            " 0   AAPL    2517 non-null   float64\n",
            " 1   MSFT    2517 non-null   float64\n",
            " 2   SP500   2395 non-null   float64\n",
            "dtypes: float64(3)\n",
            "memory usage: 78.7 KB\n"
          ],
          "name": "stdout"
        }
      ]
    },
    {
      "cell_type": "markdown",
      "metadata": {
        "id": "Dm5MP30PRLuA"
      },
      "source": [
        "Dropping all the missing values."
      ]
    },
    {
      "cell_type": "code",
      "metadata": {
        "colab": {
          "base_uri": "https://localhost:8080/"
        },
        "id": "eA5arYjxLJt4",
        "outputId": "e49ad119-468a-4330-8f3c-6cdea08eed66"
      },
      "source": [
        "df.dropna(axis=0, inplace=True)\r\n",
        "df.info()"
      ],
      "execution_count": null,
      "outputs": [
        {
          "output_type": "stream",
          "text": [
            "<class 'pandas.core.frame.DataFrame'>\n",
            "DatetimeIndex: 2394 entries, 2007-06-29 to 2016-12-30\n",
            "Data columns (total 3 columns):\n",
            " #   Column  Non-Null Count  Dtype  \n",
            "---  ------  --------------  -----  \n",
            " 0   AAPL    2394 non-null   float64\n",
            " 1   MSFT    2394 non-null   float64\n",
            " 2   SP500   2394 non-null   float64\n",
            "dtypes: float64(3)\n",
            "memory usage: 74.8 KB\n"
          ],
          "name": "stdout"
        }
      ]
    },
    {
      "cell_type": "markdown",
      "metadata": {
        "id": "LhROdlCTRvYZ"
      },
      "source": [
        "Plotting the normalized data"
      ]
    },
    {
      "cell_type": "code",
      "metadata": {
        "colab": {
          "base_uri": "https://localhost:8080/",
          "height": 287
        },
        "id": "BxLevytzMSRm",
        "outputId": "7261e2de-0203-40c5-b9e3-4d3d33bdfb2c"
      },
      "source": [
        "normalized = df.div(df.iloc[0]).mul(100)\r\n",
        "normalized.plot()"
      ],
      "execution_count": null,
      "outputs": [
        {
          "output_type": "execute_result",
          "data": {
            "text/plain": [
              "<matplotlib.axes._subplots.AxesSubplot at 0x7f363a866908>"
            ]
          },
          "metadata": {
            "tags": []
          },
          "execution_count": 13
        },
        {
          "output_type": "display_data",
          "data": {
            "image/png": "[encoded data removed]",
            "text/plain": [
              "<Figure size 432x288 with 1 Axes>"
            ]
          },
          "metadata": {
            "tags": [],
            "needs_background": "light"
          }
        }
      ]
    },
    {
      "cell_type": "markdown",
      "metadata": {
        "id": "zDJtiRCPRQ5D"
      },
      "source": [
        "Plottig the performance difference "
      ]
    },
    {
      "cell_type": "code",
      "metadata": {
        "colab": {
          "base_uri": "https://localhost:8080/",
          "height": 287
        },
        "id": "kVy00IoOMnon",
        "outputId": "e05be748-8a38-4824-dcac-c8d8347e3b15"
      },
      "source": [
        "diff = normalized[tickers].sub(normalized['SP500'],axis=0)\r\n",
        "diff.plot()"
      ],
      "execution_count": null,
      "outputs": [
        {
          "output_type": "execute_result",
          "data": {
            "text/plain": [
              "<matplotlib.axes._subplots.AxesSubplot at 0x7f363a7b6550>"
            ]
          },
          "metadata": {
            "tags": []
          },
          "execution_count": 14
        },
        {
          "output_type": "display_data",
          "data": {
            "image/png": "[encoded data removed]",
            "text/plain": [
              "<Figure size 432x288 with 1 Axes>"
            ]
          },
          "metadata": {
            "tags": [],
            "needs_background": "light"
          }
        }
      ]
    },
    {
      "cell_type": "markdown",
      "metadata": {
        "id": "68DrDBVjNzko"
      },
      "source": [
        "##2.Changing the time series frequency: Resampling"
      ]
    },
    {
      "cell_type": "markdown",
      "metadata": {
        "id": "fkZQswQERNvN"
      },
      "source": [
        "###2.1 Method-1"
      ]
    },
    {
      "cell_type": "markdown",
      "metadata": {
        "id": "z_3orfrPSY9m"
      },
      "source": [
        "Getting started with - Quaterly data"
      ]
    },
    {
      "cell_type": "code",
      "metadata": {
        "colab": {
          "base_uri": "https://localhost:8080/"
        },
        "id": "5ZRqbWhwN3k-",
        "outputId": "dc78ebbf-e5c6-479c-a1b6-3ec57850db56"
      },
      "source": [
        "dates = pd.date_range(start='2020', periods=4, freq='Q')\r\n",
        "dates"
      ],
      "execution_count": null,
      "outputs": [
        {
          "output_type": "execute_result",
          "data": {
            "text/plain": [
              "DatetimeIndex(['2020-03-31', '2020-06-30', '2020-09-30', '2020-12-31'], dtype='datetime64[ns]', freq='Q-DEC')"
            ]
          },
          "metadata": {
            "tags": []
          },
          "execution_count": 15
        }
      ]
    },
    {
      "cell_type": "code",
      "metadata": {
        "id": "pMinuWtuOleN"
      },
      "source": [
        "data = range(1, 5)"
      ],
      "execution_count": null,
      "outputs": []
    },
    {
      "cell_type": "code",
      "metadata": {
        "colab": {
          "base_uri": "https://localhost:8080/"
        },
        "id": "YEGA1WnPOooi",
        "outputId": "6b3038e9-4ad0-47dc-ee96-b4483b962972"
      },
      "source": [
        "quaters = pd.Series(data=data, index=dates)\r\n",
        "quaters"
      ],
      "execution_count": null,
      "outputs": [
        {
          "output_type": "execute_result",
          "data": {
            "text/plain": [
              "2020-03-31    1\n",
              "2020-06-30    2\n",
              "2020-09-30    3\n",
              "2020-12-31    4\n",
              "Freq: Q-DEC, dtype: int64"
            ]
          },
          "metadata": {
            "tags": []
          },
          "execution_count": 17
        }
      ]
    },
    {
      "cell_type": "markdown",
      "metadata": {
        "id": "nV3Nwyi6Sgh1"
      },
      "source": [
        "####2.11 Upsampling:  quaterly -> monthly\r\n",
        "\r\n",
        "Upsampling creates missing values."
      ]
    },
    {
      "cell_type": "code",
      "metadata": {
        "colab": {
          "base_uri": "https://localhost:8080/"
        },
        "id": "xnAshXu0Ozmd",
        "outputId": "cdf7c75b-2d7c-4d8d-8e56-28c1d051c8f6"
      },
      "source": [
        "months = quaters.asfreq('M') #Converts to Month-end frequency\r\n",
        "months"
      ],
      "execution_count": null,
      "outputs": [
        {
          "output_type": "execute_result",
          "data": {
            "text/plain": [
              "2020-03-31    1.0\n",
              "2020-04-30    NaN\n",
              "2020-05-31    NaN\n",
              "2020-06-30    2.0\n",
              "2020-07-31    NaN\n",
              "2020-08-31    NaN\n",
              "2020-09-30    3.0\n",
              "2020-10-31    NaN\n",
              "2020-11-30    NaN\n",
              "2020-12-31    4.0\n",
              "Freq: M, dtype: float64"
            ]
          },
          "metadata": {
            "tags": []
          },
          "execution_count": 18
        }
      ]
    },
    {
      "cell_type": "code",
      "metadata": {
        "colab": {
          "base_uri": "https://localhost:8080/",
          "height": 355
        },
        "id": "6oKXyqBXO512",
        "outputId": "fdd6ad5b-919f-4ff7-8aae-ba637704a80c"
      },
      "source": [
        "months = months.to_frame('data') ##Converting to DataFrame\r\n",
        "months"
      ],
      "execution_count": null,
      "outputs": [
        {
          "output_type": "execute_result",
          "data": {
            "text/html": [
              "<div>\n",
              "<style scoped>\n",
              "    .dataframe tbody tr th:only-of-type {\n",
              "        vertical-align: middle;\n",
              "    }\n",
              "\n",
              "    .dataframe tbody tr th {\n",
              "        vertical-align: top;\n",
              "    }\n",
              "\n",
              "    .dataframe thead th {\n",
              "        text-align: right;\n",
              "    }\n",
              "</style>\n",
              "<table border=\"1\" class=\"dataframe\">\n",
              "  <thead>\n",
              "    <tr style=\"text-align: right;\">\n",
              "      <th></th>\n",
              "      <th>data</th>\n",
              "    </tr>\n",
              "  </thead>\n",
              "  <tbody>\n",
              "    <tr>\n",
              "      <th>2020-03-31</th>\n",
              "      <td>1.0</td>\n",
              "    </tr>\n",
              "    <tr>\n",
              "      <th>2020-04-30</th>\n",
              "      <td>NaN</td>\n",
              "    </tr>\n",
              "    <tr>\n",
              "      <th>2020-05-31</th>\n",
              "      <td>NaN</td>\n",
              "    </tr>\n",
              "    <tr>\n",
              "      <th>2020-06-30</th>\n",
              "      <td>2.0</td>\n",
              "    </tr>\n",
              "    <tr>\n",
              "      <th>2020-07-31</th>\n",
              "      <td>NaN</td>\n",
              "    </tr>\n",
              "    <tr>\n",
              "      <th>2020-08-31</th>\n",
              "      <td>NaN</td>\n",
              "    </tr>\n",
              "    <tr>\n",
              "      <th>2020-09-30</th>\n",
              "      <td>3.0</td>\n",
              "    </tr>\n",
              "    <tr>\n",
              "      <th>2020-10-31</th>\n",
              "      <td>NaN</td>\n",
              "    </tr>\n",
              "    <tr>\n",
              "      <th>2020-11-30</th>\n",
              "      <td>NaN</td>\n",
              "    </tr>\n",
              "    <tr>\n",
              "      <th>2020-12-31</th>\n",
              "      <td>4.0</td>\n",
              "    </tr>\n",
              "  </tbody>\n",
              "</table>\n",
              "</div>"
            ],
            "text/plain": [
              "            data\n",
              "2020-03-31   1.0\n",
              "2020-04-30   NaN\n",
              "2020-05-31   NaN\n",
              "2020-06-30   2.0\n",
              "2020-07-31   NaN\n",
              "2020-08-31   NaN\n",
              "2020-09-30   3.0\n",
              "2020-10-31   NaN\n",
              "2020-11-30   NaN\n",
              "2020-12-31   4.0"
            ]
          },
          "metadata": {
            "tags": []
          },
          "execution_count": 19
        }
      ]
    },
    {
      "cell_type": "markdown",
      "metadata": {
        "id": "Di9TuaKMTHEq"
      },
      "source": [
        "####2.12 Upsampling:  Fill Methods\r\n",
        "\r\n",
        "1.  `ffill` - Forward fill\r\n",
        "2.  `bfill` - Back fill"
      ]
    },
    {
      "cell_type": "code",
      "metadata": {
        "id": "qYXRkqhqPH-N"
      },
      "source": [
        "months['ffill'] = quaters.asfreq('M', method='ffill')\r\n",
        "months['bfill'] = quaters.asfreq('M', method='bfill')\r\n",
        "months['value'] = quaters.asfreq('M', fill_value=0)"
      ],
      "execution_count": null,
      "outputs": []
    },
    {
      "cell_type": "code",
      "metadata": {
        "colab": {
          "base_uri": "https://localhost:8080/",
          "height": 355
        },
        "id": "08KV4yoRPgre",
        "outputId": "01f22dfd-5b36-4c76-ceac-c922b227e102"
      },
      "source": [
        "months"
      ],
      "execution_count": null,
      "outputs": [
        {
          "output_type": "execute_result",
          "data": {
            "text/html": [
              "<div>\n",
              "<style scoped>\n",
              "    .dataframe tbody tr th:only-of-type {\n",
              "        vertical-align: middle;\n",
              "    }\n",
              "\n",
              "    .dataframe tbody tr th {\n",
              "        vertical-align: top;\n",
              "    }\n",
              "\n",
              "    .dataframe thead th {\n",
              "        text-align: right;\n",
              "    }\n",
              "</style>\n",
              "<table border=\"1\" class=\"dataframe\">\n",
              "  <thead>\n",
              "    <tr style=\"text-align: right;\">\n",
              "      <th></th>\n",
              "      <th>data</th>\n",
              "      <th>ffill</th>\n",
              "      <th>bfill</th>\n",
              "      <th>value</th>\n",
              "    </tr>\n",
              "  </thead>\n",
              "  <tbody>\n",
              "    <tr>\n",
              "      <th>2020-03-31</th>\n",
              "      <td>1.0</td>\n",
              "      <td>1</td>\n",
              "      <td>1</td>\n",
              "      <td>1</td>\n",
              "    </tr>\n",
              "    <tr>\n",
              "      <th>2020-04-30</th>\n",
              "      <td>NaN</td>\n",
              "      <td>1</td>\n",
              "      <td>2</td>\n",
              "      <td>0</td>\n",
              "    </tr>\n",
              "    <tr>\n",
              "      <th>2020-05-31</th>\n",
              "      <td>NaN</td>\n",
              "      <td>1</td>\n",
              "      <td>2</td>\n",
              "      <td>0</td>\n",
              "    </tr>\n",
              "    <tr>\n",
              "      <th>2020-06-30</th>\n",
              "      <td>2.0</td>\n",
              "      <td>2</td>\n",
              "      <td>2</td>\n",
              "      <td>2</td>\n",
              "    </tr>\n",
              "    <tr>\n",
              "      <th>2020-07-31</th>\n",
              "      <td>NaN</td>\n",
              "      <td>2</td>\n",
              "      <td>3</td>\n",
              "      <td>0</td>\n",
              "    </tr>\n",
              "    <tr>\n",
              "      <th>2020-08-31</th>\n",
              "      <td>NaN</td>\n",
              "      <td>2</td>\n",
              "      <td>3</td>\n",
              "      <td>0</td>\n",
              "    </tr>\n",
              "    <tr>\n",
              "      <th>2020-09-30</th>\n",
              "      <td>3.0</td>\n",
              "      <td>3</td>\n",
              "      <td>3</td>\n",
              "      <td>3</td>\n",
              "    </tr>\n",
              "    <tr>\n",
              "      <th>2020-10-31</th>\n",
              "      <td>NaN</td>\n",
              "      <td>3</td>\n",
              "      <td>4</td>\n",
              "      <td>0</td>\n",
              "    </tr>\n",
              "    <tr>\n",
              "      <th>2020-11-30</th>\n",
              "      <td>NaN</td>\n",
              "      <td>3</td>\n",
              "      <td>4</td>\n",
              "      <td>0</td>\n",
              "    </tr>\n",
              "    <tr>\n",
              "      <th>2020-12-31</th>\n",
              "      <td>4.0</td>\n",
              "      <td>4</td>\n",
              "      <td>4</td>\n",
              "      <td>4</td>\n",
              "    </tr>\n",
              "  </tbody>\n",
              "</table>\n",
              "</div>"
            ],
            "text/plain": [
              "            data  ffill  bfill  value\n",
              "2020-03-31   1.0      1      1      1\n",
              "2020-04-30   NaN      1      2      0\n",
              "2020-05-31   NaN      1      2      0\n",
              "2020-06-30   2.0      2      2      2\n",
              "2020-07-31   NaN      2      3      0\n",
              "2020-08-31   NaN      2      3      0\n",
              "2020-09-30   3.0      3      3      3\n",
              "2020-10-31   NaN      3      4      0\n",
              "2020-11-30   NaN      3      4      0\n",
              "2020-12-31   4.0      4      4      4"
            ]
          },
          "metadata": {
            "tags": []
          },
          "execution_count": 21
        }
      ]
    },
    {
      "cell_type": "markdown",
      "metadata": {
        "id": "mULg9dsCRQ_q"
      },
      "source": [
        "###2.2 Method-2"
      ]
    },
    {
      "cell_type": "markdown",
      "metadata": {
        "id": "fo4W2bX7UFmY"
      },
      "source": [
        "Getting started with - Quaterly data"
      ]
    },
    {
      "cell_type": "code",
      "metadata": {
        "colab": {
          "base_uri": "https://localhost:8080/",
          "height": 171
        },
        "id": "7d8Qm7CIP_Bt",
        "outputId": "3530da24-e556-4923-a783-a71c48edf5da"
      },
      "source": [
        "dates = pd.date_range(start='2020', periods=4, freq='Q')\r\n",
        "quaters = pd.Series(data=range(1,5),index=dates)\r\n",
        "quaters = quaters.to_frame('data')\r\n",
        "quaters"
      ],
      "execution_count": null,
      "outputs": [
        {
          "output_type": "execute_result",
          "data": {
            "text/html": [
              "<div>\n",
              "<style scoped>\n",
              "    .dataframe tbody tr th:only-of-type {\n",
              "        vertical-align: middle;\n",
              "    }\n",
              "\n",
              "    .dataframe tbody tr th {\n",
              "        vertical-align: top;\n",
              "    }\n",
              "\n",
              "    .dataframe thead th {\n",
              "        text-align: right;\n",
              "    }\n",
              "</style>\n",
              "<table border=\"1\" class=\"dataframe\">\n",
              "  <thead>\n",
              "    <tr style=\"text-align: right;\">\n",
              "      <th></th>\n",
              "      <th>data</th>\n",
              "    </tr>\n",
              "  </thead>\n",
              "  <tbody>\n",
              "    <tr>\n",
              "      <th>2020-03-31</th>\n",
              "      <td>1</td>\n",
              "    </tr>\n",
              "    <tr>\n",
              "      <th>2020-06-30</th>\n",
              "      <td>2</td>\n",
              "    </tr>\n",
              "    <tr>\n",
              "      <th>2020-09-30</th>\n",
              "      <td>3</td>\n",
              "    </tr>\n",
              "    <tr>\n",
              "      <th>2020-12-31</th>\n",
              "      <td>4</td>\n",
              "    </tr>\n",
              "  </tbody>\n",
              "</table>\n",
              "</div>"
            ],
            "text/plain": [
              "            data\n",
              "2020-03-31     1\n",
              "2020-06-30     2\n",
              "2020-09-30     3\n",
              "2020-12-31     4"
            ]
          },
          "metadata": {
            "tags": []
          },
          "execution_count": 22
        }
      ]
    },
    {
      "cell_type": "markdown",
      "metadata": {
        "id": "akVKOGLfUJ7M"
      },
      "source": [
        "Converting quaterly to monthly"
      ]
    },
    {
      "cell_type": "code",
      "metadata": {
        "colab": {
          "base_uri": "https://localhost:8080/"
        },
        "id": "wqf7gGLKQMFh",
        "outputId": "5251a63a-fc25-4128-b54e-c8530309bc24"
      },
      "source": [
        "monthly = pd.date_range(start='2020', periods=12, freq='M')\r\n",
        "monthly"
      ],
      "execution_count": null,
      "outputs": [
        {
          "output_type": "execute_result",
          "data": {
            "text/plain": [
              "DatetimeIndex(['2020-01-31', '2020-02-29', '2020-03-31', '2020-04-30',\n",
              "               '2020-05-31', '2020-06-30', '2020-07-31', '2020-08-31',\n",
              "               '2020-09-30', '2020-10-31', '2020-11-30', '2020-12-31'],\n",
              "              dtype='datetime64[ns]', freq='M')"
            ]
          },
          "metadata": {
            "tags": []
          },
          "execution_count": 23
        }
      ]
    },
    {
      "cell_type": "markdown",
      "metadata": {
        "id": "3lEzAHSCUQnN"
      },
      "source": [
        "####2.21 Add missing values using `.reindex()`\r\n",
        "\r\n",
        "Same filling logic as `.asfreq()`."
      ]
    },
    {
      "cell_type": "code",
      "metadata": {
        "colab": {
          "base_uri": "https://localhost:8080/"
        },
        "id": "qLs-VufOQP7R",
        "outputId": "860586f9-e1e9-46db-ada6-c4482a54d7b1"
      },
      "source": [
        "print(quaters.reindex(monthly))\r\n",
        "print(\"\")\r\n",
        "print(\"Forward Fill\")\r\n",
        "print(quaters.reindex(monthly, method='ffill'))\r\n",
        "print(\"\")\r\n",
        "print(\"Backward Fill\")\r\n",
        "print(quaters.reindex(monthly, method='bfill'))"
      ],
      "execution_count": null,
      "outputs": [
        {
          "output_type": "stream",
          "text": [
            "            data\n",
            "2020-01-31   NaN\n",
            "2020-02-29   NaN\n",
            "2020-03-31   1.0\n",
            "2020-04-30   NaN\n",
            "2020-05-31   NaN\n",
            "2020-06-30   2.0\n",
            "2020-07-31   NaN\n",
            "2020-08-31   NaN\n",
            "2020-09-30   3.0\n",
            "2020-10-31   NaN\n",
            "2020-11-30   NaN\n",
            "2020-12-31   4.0\n",
            "\n",
            "Forward Fill\n",
            "            data\n",
            "2020-01-31   NaN\n",
            "2020-02-29   NaN\n",
            "2020-03-31   1.0\n",
            "2020-04-30   1.0\n",
            "2020-05-31   1.0\n",
            "2020-06-30   2.0\n",
            "2020-07-31   2.0\n",
            "2020-08-31   2.0\n",
            "2020-09-30   3.0\n",
            "2020-10-31   3.0\n",
            "2020-11-30   3.0\n",
            "2020-12-31   4.0\n",
            "\n",
            "Backward Fill\n",
            "            data\n",
            "2020-01-31     1\n",
            "2020-02-29     1\n",
            "2020-03-31     1\n",
            "2020-04-30     2\n",
            "2020-05-31     2\n",
            "2020-06-30     2\n",
            "2020-07-31     3\n",
            "2020-08-31     3\n",
            "2020-09-30     3\n",
            "2020-10-31     4\n",
            "2020-11-30     4\n",
            "2020-12-31     4\n"
          ],
          "name": "stdout"
        }
      ]
    },
    {
      "cell_type": "markdown",
      "metadata": {
        "id": "PYIUER3LUIYN"
      },
      "source": [
        "###2.3 US Unemployment Data\r\n",
        "\r\n",
        "The civilian US unemployment rate is reported monthly. We have time series data for last 20 years."
      ]
    },
    {
      "cell_type": "markdown",
      "metadata": {
        "id": "jzF9HHfZU9X7"
      },
      "source": [
        "####2.31 Loading and Inspecting the data"
      ]
    },
    {
      "cell_type": "code",
      "metadata": {
        "colab": {
          "base_uri": "https://localhost:8080/"
        },
        "id": "zv4wjrOCUNAc",
        "outputId": "5b754daf-3e29-4935-f61c-14117d1cc87a"
      },
      "source": [
        "unrate = pd.read_csv('unrate_2000.csv', parse_dates=['date'], index_col = 'date')\r\n",
        "unrate.info()"
      ],
      "execution_count": null,
      "outputs": [
        {
          "output_type": "stream",
          "text": [
            "<class 'pandas.core.frame.DataFrame'>\n",
            "DatetimeIndex: 209 entries, 2000-01-01 to 2017-05-01\n",
            "Data columns (total 1 columns):\n",
            " #   Column  Non-Null Count  Dtype  \n",
            "---  ------  --------------  -----  \n",
            " 0   UNRATE  209 non-null    float64\n",
            "dtypes: float64(1)\n",
            "memory usage: 3.3 KB\n"
          ],
          "name": "stdout"
        }
      ]
    },
    {
      "cell_type": "code",
      "metadata": {
        "colab": {
          "base_uri": "https://localhost:8080/",
          "height": 233
        },
        "id": "nUQj4z3lU3en",
        "outputId": "848659c7-ef75-483d-c809-e6724008f009"
      },
      "source": [
        "unrate.head()"
      ],
      "execution_count": null,
      "outputs": [
        {
          "output_type": "execute_result",
          "data": {
            "text/html": [
              "<div>\n",
              "<style scoped>\n",
              "    .dataframe tbody tr th:only-of-type {\n",
              "        vertical-align: middle;\n",
              "    }\n",
              "\n",
              "    .dataframe tbody tr th {\n",
              "        vertical-align: top;\n",
              "    }\n",
              "\n",
              "    .dataframe thead th {\n",
              "        text-align: right;\n",
              "    }\n",
              "</style>\n",
              "<table border=\"1\" class=\"dataframe\">\n",
              "  <thead>\n",
              "    <tr style=\"text-align: right;\">\n",
              "      <th></th>\n",
              "      <th>UNRATE</th>\n",
              "    </tr>\n",
              "    <tr>\n",
              "      <th>date</th>\n",
              "      <th></th>\n",
              "    </tr>\n",
              "  </thead>\n",
              "  <tbody>\n",
              "    <tr>\n",
              "      <th>2000-01-01</th>\n",
              "      <td>4.0</td>\n",
              "    </tr>\n",
              "    <tr>\n",
              "      <th>2000-02-01</th>\n",
              "      <td>4.1</td>\n",
              "    </tr>\n",
              "    <tr>\n",
              "      <th>2000-03-01</th>\n",
              "      <td>4.0</td>\n",
              "    </tr>\n",
              "    <tr>\n",
              "      <th>2000-04-01</th>\n",
              "      <td>3.8</td>\n",
              "    </tr>\n",
              "    <tr>\n",
              "      <th>2000-05-01</th>\n",
              "      <td>4.0</td>\n",
              "    </tr>\n",
              "  </tbody>\n",
              "</table>\n",
              "</div>"
            ],
            "text/plain": [
              "            UNRATE\n",
              "date              \n",
              "2000-01-01     4.0\n",
              "2000-02-01     4.1\n",
              "2000-03-01     4.0\n",
              "2000-04-01     3.8\n",
              "2000-05-01     4.0"
            ]
          },
          "metadata": {
            "tags": []
          },
          "execution_count": 26
        }
      ]
    },
    {
      "cell_type": "markdown",
      "metadata": {
        "id": "fdsGtJwBVC-4"
      },
      "source": [
        "####2.32 Upsampling data: Monthly -> Weekly\r\n",
        "\r\n",
        "Creating weekly data from monthly unemployment data"
      ]
    },
    {
      "cell_type": "code",
      "metadata": {
        "colab": {
          "base_uri": "https://localhost:8080/"
        },
        "id": "pcwi3ifpUkDy",
        "outputId": "ca8cf6ab-2854-484b-812a-2fe0bddd39e2"
      },
      "source": [
        "unrate_weekly = unrate.asfreq('W', method='ffill')\r\n",
        "unrate_weekly.info()"
      ],
      "execution_count": null,
      "outputs": [
        {
          "output_type": "stream",
          "text": [
            "<class 'pandas.core.frame.DataFrame'>\n",
            "DatetimeIndex: 905 entries, 2000-01-02 to 2017-04-30\n",
            "Freq: W-SUN\n",
            "Data columns (total 1 columns):\n",
            " #   Column  Non-Null Count  Dtype  \n",
            "---  ------  --------------  -----  \n",
            " 0   UNRATE  905 non-null    float64\n",
            "dtypes: float64(1)\n",
            "memory usage: 14.1 KB\n"
          ],
          "name": "stdout"
        }
      ]
    },
    {
      "cell_type": "code",
      "metadata": {
        "colab": {
          "base_uri": "https://localhost:8080/",
          "height": 233
        },
        "id": "92a0-feOVAZL",
        "outputId": "5fd9d68f-e9e6-4e32-9078-df967ec0434e"
      },
      "source": [
        "unrate_weekly.head()"
      ],
      "execution_count": null,
      "outputs": [
        {
          "output_type": "execute_result",
          "data": {
            "text/html": [
              "<div>\n",
              "<style scoped>\n",
              "    .dataframe tbody tr th:only-of-type {\n",
              "        vertical-align: middle;\n",
              "    }\n",
              "\n",
              "    .dataframe tbody tr th {\n",
              "        vertical-align: top;\n",
              "    }\n",
              "\n",
              "    .dataframe thead th {\n",
              "        text-align: right;\n",
              "    }\n",
              "</style>\n",
              "<table border=\"1\" class=\"dataframe\">\n",
              "  <thead>\n",
              "    <tr style=\"text-align: right;\">\n",
              "      <th></th>\n",
              "      <th>UNRATE</th>\n",
              "    </tr>\n",
              "    <tr>\n",
              "      <th>date</th>\n",
              "      <th></th>\n",
              "    </tr>\n",
              "  </thead>\n",
              "  <tbody>\n",
              "    <tr>\n",
              "      <th>2000-01-02</th>\n",
              "      <td>4.0</td>\n",
              "    </tr>\n",
              "    <tr>\n",
              "      <th>2000-01-09</th>\n",
              "      <td>4.0</td>\n",
              "    </tr>\n",
              "    <tr>\n",
              "      <th>2000-01-16</th>\n",
              "      <td>4.0</td>\n",
              "    </tr>\n",
              "    <tr>\n",
              "      <th>2000-01-23</th>\n",
              "      <td>4.0</td>\n",
              "    </tr>\n",
              "    <tr>\n",
              "      <th>2000-01-30</th>\n",
              "      <td>4.0</td>\n",
              "    </tr>\n",
              "  </tbody>\n",
              "</table>\n",
              "</div>"
            ],
            "text/plain": [
              "            UNRATE\n",
              "date              \n",
              "2000-01-02     4.0\n",
              "2000-01-09     4.0\n",
              "2000-01-16     4.0\n",
              "2000-01-23     4.0\n",
              "2000-01-30     4.0"
            ]
          },
          "metadata": {
            "tags": []
          },
          "execution_count": 28
        }
      ]
    },
    {
      "cell_type": "code",
      "metadata": {
        "colab": {
          "base_uri": "https://localhost:8080/",
          "height": 309
        },
        "id": "8dKG7baiVJKs",
        "outputId": "f6d5082a-ac02-4148-c675-a9dfd465b8b0"
      },
      "source": [
        "unrate_weekly.loc['2015': ].plot()"
      ],
      "execution_count": null,
      "outputs": [
        {
          "output_type": "execute_result",
          "data": {
            "text/plain": [
              "<matplotlib.axes._subplots.AxesSubplot at 0x7f363a6853c8>"
            ]
          },
          "metadata": {
            "tags": []
          },
          "execution_count": 29
        },
        {
          "output_type": "display_data",
          "data": {
            "image/png": "[encoded data removed]",
            "text/plain": [
              "<Figure size 432x288 with 1 Axes>"
            ]
          },
          "metadata": {
            "tags": [],
            "needs_background": "light"
          }
        }
      ]
    },
    {
      "cell_type": "markdown",
      "metadata": {
        "id": "qHIQVGCdV5_L"
      },
      "source": [
        "##3.Upsampling & Interpolation with `.resample`"
      ]
    },
    {
      "cell_type": "markdown",
      "metadata": {
        "id": "3_l3YoinXdUS"
      },
      "source": [
        "###3.1 `.resample() function`\r\n",
        "\r\n",
        "1.  `.resample()` is similar to `.groupby()`\r\n",
        "2.  Pandas `.resample()` function is primarily used for time series data.\r\n",
        "3.  Groups data within resampling period and applies one or several methods to each group."
      ]
    },
    {
      "cell_type": "markdown",
      "metadata": {
        "id": "D28mNXmJWbG6"
      },
      "source": [
        "####3.11 Loading and Inspecting the data"
      ]
    },
    {
      "cell_type": "code",
      "metadata": {
        "colab": {
          "base_uri": "https://localhost:8080/"
        },
        "id": "2x2KzkQmWGU8",
        "outputId": "b2c8f527-32e8-478a-f326-7e37ea7db77b"
      },
      "source": [
        "unrate = pd.read_csv('unrate_2000.csv', parse_dates=['date'], index_col='date')\r\n",
        "unrate.info()"
      ],
      "execution_count": null,
      "outputs": [
        {
          "output_type": "stream",
          "text": [
            "<class 'pandas.core.frame.DataFrame'>\n",
            "DatetimeIndex: 209 entries, 2000-01-01 to 2017-05-01\n",
            "Data columns (total 1 columns):\n",
            " #   Column  Non-Null Count  Dtype  \n",
            "---  ------  --------------  -----  \n",
            " 0   UNRATE  209 non-null    float64\n",
            "dtypes: float64(1)\n",
            "memory usage: 3.3 KB\n"
          ],
          "name": "stdout"
        }
      ]
    },
    {
      "cell_type": "code",
      "metadata": {
        "colab": {
          "base_uri": "https://localhost:8080/",
          "height": 233
        },
        "id": "QPSbECpSWVIs",
        "outputId": "0c8bfc10-427f-4a2a-84b4-773eb49af755"
      },
      "source": [
        "unrate.head()"
      ],
      "execution_count": null,
      "outputs": [
        {
          "output_type": "execute_result",
          "data": {
            "text/html": [
              "<div>\n",
              "<style scoped>\n",
              "    .dataframe tbody tr th:only-of-type {\n",
              "        vertical-align: middle;\n",
              "    }\n",
              "\n",
              "    .dataframe tbody tr th {\n",
              "        vertical-align: top;\n",
              "    }\n",
              "\n",
              "    .dataframe thead th {\n",
              "        text-align: right;\n",
              "    }\n",
              "</style>\n",
              "<table border=\"1\" class=\"dataframe\">\n",
              "  <thead>\n",
              "    <tr style=\"text-align: right;\">\n",
              "      <th></th>\n",
              "      <th>UNRATE</th>\n",
              "    </tr>\n",
              "    <tr>\n",
              "      <th>date</th>\n",
              "      <th></th>\n",
              "    </tr>\n",
              "  </thead>\n",
              "  <tbody>\n",
              "    <tr>\n",
              "      <th>2000-01-01</th>\n",
              "      <td>4.0</td>\n",
              "    </tr>\n",
              "    <tr>\n",
              "      <th>2000-02-01</th>\n",
              "      <td>4.1</td>\n",
              "    </tr>\n",
              "    <tr>\n",
              "      <th>2000-03-01</th>\n",
              "      <td>4.0</td>\n",
              "    </tr>\n",
              "    <tr>\n",
              "      <th>2000-04-01</th>\n",
              "      <td>3.8</td>\n",
              "    </tr>\n",
              "    <tr>\n",
              "      <th>2000-05-01</th>\n",
              "      <td>4.0</td>\n",
              "    </tr>\n",
              "  </tbody>\n",
              "</table>\n",
              "</div>"
            ],
            "text/plain": [
              "            UNRATE\n",
              "date              \n",
              "2000-01-01     4.0\n",
              "2000-02-01     4.1\n",
              "2000-03-01     4.0\n",
              "2000-04-01     3.8\n",
              "2000-05-01     4.0"
            ]
          },
          "metadata": {
            "tags": []
          },
          "execution_count": 31
        }
      ]
    },
    {
      "cell_type": "markdown",
      "metadata": {
        "id": "Oj9SkUhmW8zq"
      },
      "source": [
        "####3.12 Assign frequency with `.resample()`"
      ]
    },
    {
      "cell_type": "code",
      "metadata": {
        "colab": {
          "base_uri": "https://localhost:8080/"
        },
        "id": "jMPG9scsWXYs",
        "outputId": "908eec18-f082-4df3-af74-f37c6cd321dd"
      },
      "source": [
        "unrate.asfreq('MS').info()"
      ],
      "execution_count": null,
      "outputs": [
        {
          "output_type": "stream",
          "text": [
            "<class 'pandas.core.frame.DataFrame'>\n",
            "DatetimeIndex: 209 entries, 2000-01-01 to 2017-05-01\n",
            "Freq: MS\n",
            "Data columns (total 1 columns):\n",
            " #   Column  Non-Null Count  Dtype  \n",
            "---  ------  --------------  -----  \n",
            " 0   UNRATE  209 non-null    float64\n",
            "dtypes: float64(1)\n",
            "memory usage: 3.3 KB\n"
          ],
          "name": "stdout"
        }
      ]
    },
    {
      "cell_type": "code",
      "metadata": {
        "colab": {
          "base_uri": "https://localhost:8080/"
        },
        "id": "xLWg6-CNWj4j",
        "outputId": "c0421017-38a7-46cb-8e6f-9acc25a2b1c4"
      },
      "source": [
        "unrate.resample('MS').asfreq().info()  #Creates resamople object"
      ],
      "execution_count": null,
      "outputs": [
        {
          "output_type": "stream",
          "text": [
            "<class 'pandas.core.frame.DataFrame'>\n",
            "DatetimeIndex: 209 entries, 2000-01-01 to 2017-05-01\n",
            "Freq: MS\n",
            "Data columns (total 1 columns):\n",
            " #   Column  Non-Null Count  Dtype  \n",
            "---  ------  --------------  -----  \n",
            " 0   UNRATE  209 non-null    float64\n",
            "dtypes: float64(1)\n",
            "memory usage: 3.3 KB\n"
          ],
          "name": "stdout"
        }
      ]
    },
    {
      "cell_type": "code",
      "metadata": {
        "colab": {
          "base_uri": "https://localhost:8080/"
        },
        "id": "4fjIBsWTWoy8",
        "outputId": "ac6c03d1-0925-4de3-db6e-35d89f9eeff0"
      },
      "source": [
        "unrate.asfreq('MS').equals(unrate.resample('MS').asfreq())"
      ],
      "execution_count": null,
      "outputs": [
        {
          "output_type": "execute_result",
          "data": {
            "text/plain": [
              "True"
            ]
          },
          "metadata": {
            "tags": []
          },
          "execution_count": 34
        }
      ]
    },
    {
      "cell_type": "markdown",
      "metadata": {
        "id": "c1qf6SRlXgxr"
      },
      "source": [
        "###3.2 Interpolation\r\n",
        "\r\n",
        "Pandas `.interpolate()` function is basically used to fill NA values in the dataframe or series. But, this is a very powerful function to fill the missing values. It uses various interpolation technique to fill the missing values rather than hard-coding the value."
      ]
    },
    {
      "cell_type": "markdown",
      "metadata": {
        "id": "7SEyh4AvXuLG"
      },
      "source": [
        "####3.21 US Unemployment Data"
      ]
    },
    {
      "cell_type": "markdown",
      "metadata": {
        "id": "3BrdXgauXzkT"
      },
      "source": [
        "Loading and Inspecting the data"
      ]
    },
    {
      "cell_type": "code",
      "metadata": {
        "colab": {
          "base_uri": "https://localhost:8080/"
        },
        "id": "hd4Sd26tXjo8",
        "outputId": "9866ac0c-a675-471c-c139-a42937e8769d"
      },
      "source": [
        "unrate = pd.read_csv('unrate_2000.csv', parse_dates=['date'], index_col='date')\r\n",
        "print(unrate.info())"
      ],
      "execution_count": null,
      "outputs": [
        {
          "output_type": "stream",
          "text": [
            "<class 'pandas.core.frame.DataFrame'>\n",
            "DatetimeIndex: 209 entries, 2000-01-01 to 2017-05-01\n",
            "Data columns (total 1 columns):\n",
            " #   Column  Non-Null Count  Dtype  \n",
            "---  ------  --------------  -----  \n",
            " 0   UNRATE  209 non-null    float64\n",
            "dtypes: float64(1)\n",
            "memory usage: 3.3 KB\n",
            "None\n",
            "<class 'pandas.core.frame.DataFrame'>\n",
            "DatetimeIndex: 905 entries, 2000-01-02 to 2017-04-30\n",
            "Freq: W-SUN\n",
            "Data columns (total 1 columns):\n",
            " #   Column  Non-Null Count  Dtype  \n",
            "---  ------  --------------  -----  \n",
            " 0   UNRATE  30 non-null     float64\n",
            "dtypes: float64(1)\n",
            "memory usage: 14.1 KB\n",
            "None\n"
          ],
          "name": "stdout"
        }
      ]
    },
    {
      "cell_type": "markdown",
      "metadata": {
        "id": "YJOsnM_rX7w2"
      },
      "source": [
        "Changing the time series frequency to weekly"
      ]
    },
    {
      "cell_type": "code",
      "metadata": {
        "id": "N7tBk6bTX6fC"
      },
      "source": [
        "unrate = unrate.asfreq('W')\r\n",
        "print(unrate.info())"
      ],
      "execution_count": null,
      "outputs": []
    },
    {
      "cell_type": "code",
      "metadata": {
        "id": "bTJQtIUEYYc_"
      },
      "source": [
        "unrate['ffill'] = unrate.UNRATE.ffill() #Applying .ffill() method \r\n",
        "unrate['interpolate'] = unrate.UNRATE.interpolate()  #Applying .interpolate()"
      ],
      "execution_count": null,
      "outputs": []
    },
    {
      "cell_type": "markdown",
      "metadata": {
        "id": "lCB65sryYv4J"
      },
      "source": [
        "Plotting the Data"
      ]
    },
    {
      "cell_type": "code",
      "metadata": {
        "colab": {
          "base_uri": "https://localhost:8080/",
          "height": 279
        },
        "id": "nfoQ5ea3YoYb",
        "outputId": "e422dc6d-7d1d-4dc5-814b-4a0e086e704f"
      },
      "source": [
        "unrate.plot()\r\n",
        "plt.show()"
      ],
      "execution_count": null,
      "outputs": [
        {
          "output_type": "display_data",
          "data": {
            "image/png": "[encoded data removed]",
            "text/plain": [
              "<Figure size 432x288 with 1 Axes>"
            ]
          },
          "metadata": {
            "tags": [],
            "needs_background": "light"
          }
        }
      ]
    },
    {
      "cell_type": "markdown",
      "metadata": {
        "id": "0fNV5QjTZqbu"
      },
      "source": [
        "####3.22 Debt-Unemployment Data"
      ]
    },
    {
      "cell_type": "markdown",
      "metadata": {
        "id": "UjNBfeiZYhd0"
      },
      "source": [
        "Loading and Inspecting the data"
      ]
    },
    {
      "cell_type": "code",
      "metadata": {
        "colab": {
          "base_uri": "https://localhost:8080/"
        },
        "id": "jPtwzjDEZurz",
        "outputId": "0daaeb1b-881d-4ba8-f117-81e33f595a2e"
      },
      "source": [
        "df = pd.read_csv('debt_unemployment.csv', parse_dates=['date'], index_col='date')\r\n",
        "df.info()"
      ],
      "execution_count": null,
      "outputs": [
        {
          "output_type": "stream",
          "text": [
            "<class 'pandas.core.frame.DataFrame'>\n",
            "DatetimeIndex: 89 entries, 2010-01-01 to 2017-05-01\n",
            "Data columns (total 2 columns):\n",
            " #   Column        Non-Null Count  Dtype  \n",
            "---  ------        --------------  -----  \n",
            " 0   Debt/GDP      29 non-null     float64\n",
            " 1   Unemployment  89 non-null     float64\n",
            "dtypes: float64(2)\n",
            "memory usage: 2.1 KB\n"
          ],
          "name": "stdout"
        }
      ]
    },
    {
      "cell_type": "markdown",
      "metadata": {
        "id": "v1E51XIaYld_"
      },
      "source": [
        "Applying `.interpolate()` to fill null values "
      ]
    },
    {
      "cell_type": "code",
      "metadata": {
        "colab": {
          "base_uri": "https://localhost:8080/"
        },
        "id": "VqXzeBtzaAs7",
        "outputId": "2c122dc9-c2cb-4996-8788-3e78ad60c254"
      },
      "source": [
        "interpolated = df.interpolate()\r\n",
        "interpolated.info()"
      ],
      "execution_count": null,
      "outputs": [
        {
          "output_type": "stream",
          "text": [
            "<class 'pandas.core.frame.DataFrame'>\n",
            "DatetimeIndex: 89 entries, 2010-01-01 to 2017-05-01\n",
            "Data columns (total 2 columns):\n",
            " #   Column        Non-Null Count  Dtype  \n",
            "---  ------        --------------  -----  \n",
            " 0   Debt/GDP      89 non-null     float64\n",
            " 1   Unemployment  89 non-null     float64\n",
            "dtypes: float64(2)\n",
            "memory usage: 2.1 KB\n"
          ],
          "name": "stdout"
        }
      ]
    },
    {
      "cell_type": "markdown",
      "metadata": {
        "id": "LGy7HoSMYzHd"
      },
      "source": [
        "Plotting the Data"
      ]
    },
    {
      "cell_type": "code",
      "metadata": {
        "colab": {
          "base_uri": "https://localhost:8080/",
          "height": 279
        },
        "id": "TXEDLLSfaVz2",
        "outputId": "8e637c22-588e-4ae6-a1fa-aeab1d19e054"
      },
      "source": [
        "interpolated.plot(secondary_y = 'Unemployment')\r\n",
        "plt.show()"
      ],
      "execution_count": null,
      "outputs": [
        {
          "output_type": "display_data",
          "data": {
            "image/png": "[encoded data removed]",
            "text/plain": [
              "<Figure size 432x288 with 2 Axes>"
            ]
          },
          "metadata": {
            "tags": [],
            "needs_background": "light"
          }
        }
      ]
    },
    {
      "cell_type": "markdown",
      "metadata": {
        "id": "a1Qi6ic6ai19"
      },
      "source": [
        "####3.23 GDP Growth Data"
      ]
    },
    {
      "cell_type": "markdown",
      "metadata": {
        "id": "q_QRQSu_ZjVZ"
      },
      "source": [
        "Loading and Inspecting the data"
      ]
    },
    {
      "cell_type": "code",
      "metadata": {
        "colab": {
          "base_uri": "https://localhost:8080/"
        },
        "id": "2iISymfJala8",
        "outputId": "c92ad4ab-e057-4685-9a3e-172b8cda505f"
      },
      "source": [
        "gdp = pd.read_csv('gdp_growth.csv', parse_dates=['date'], index_col='date')\r\n",
        "gdp.info()"
      ],
      "execution_count": null,
      "outputs": [
        {
          "output_type": "stream",
          "text": [
            "<class 'pandas.core.frame.DataFrame'>\n",
            "DatetimeIndex: 41 entries, 2007-01-01 to 2017-01-01\n",
            "Data columns (total 1 columns):\n",
            " #   Column      Non-Null Count  Dtype  \n",
            "---  ------      --------------  -----  \n",
            " 0   gdp_growth  41 non-null     float64\n",
            "dtypes: float64(1)\n",
            "memory usage: 656.0 bytes\n"
          ],
          "name": "stdout"
        }
      ]
    },
    {
      "cell_type": "markdown",
      "metadata": {
        "id": "8h1a2T3KZoCI"
      },
      "source": [
        "Resampling data with `asfreq` as `'MS'` and applying `.ffill()` method on missing values."
      ]
    },
    {
      "cell_type": "code",
      "metadata": {
        "colab": {
          "base_uri": "https://localhost:8080/"
        },
        "id": "p2kW2X66bRsF",
        "outputId": "b87555fc-32ba-4380-9240-e9eec52a423a"
      },
      "source": [
        "gdp1 = gdp.resample('MS').ffill().add_suffix('_ffill')\r\n",
        "gdp1.info()"
      ],
      "execution_count": null,
      "outputs": [
        {
          "output_type": "stream",
          "text": [
            "<class 'pandas.core.frame.DataFrame'>\n",
            "DatetimeIndex: 121 entries, 2007-01-01 to 2017-01-01\n",
            "Freq: MS\n",
            "Data columns (total 1 columns):\n",
            " #   Column            Non-Null Count  Dtype  \n",
            "---  ------            --------------  -----  \n",
            " 0   gdp_growth_ffill  121 non-null    float64\n",
            "dtypes: float64(1)\n",
            "memory usage: 1.9 KB\n"
          ],
          "name": "stdout"
        }
      ]
    },
    {
      "cell_type": "code",
      "metadata": {
        "colab": {
          "base_uri": "https://localhost:8080/",
          "height": 233
        },
        "id": "yA4MXwxmbzPM",
        "outputId": "2ff239ca-8867-4b37-bc74-1562042b5c92"
      },
      "source": [
        "gdp1.head()"
      ],
      "execution_count": null,
      "outputs": [
        {
          "output_type": "execute_result",
          "data": {
            "text/html": [
              "<div>\n",
              "<style scoped>\n",
              "    .dataframe tbody tr th:only-of-type {\n",
              "        vertical-align: middle;\n",
              "    }\n",
              "\n",
              "    .dataframe tbody tr th {\n",
              "        vertical-align: top;\n",
              "    }\n",
              "\n",
              "    .dataframe thead th {\n",
              "        text-align: right;\n",
              "    }\n",
              "</style>\n",
              "<table border=\"1\" class=\"dataframe\">\n",
              "  <thead>\n",
              "    <tr style=\"text-align: right;\">\n",
              "      <th></th>\n",
              "      <th>gdp_growth_ffill</th>\n",
              "    </tr>\n",
              "    <tr>\n",
              "      <th>date</th>\n",
              "      <th></th>\n",
              "    </tr>\n",
              "  </thead>\n",
              "  <tbody>\n",
              "    <tr>\n",
              "      <th>2007-01-01</th>\n",
              "      <td>0.2</td>\n",
              "    </tr>\n",
              "    <tr>\n",
              "      <th>2007-02-01</th>\n",
              "      <td>0.2</td>\n",
              "    </tr>\n",
              "    <tr>\n",
              "      <th>2007-03-01</th>\n",
              "      <td>0.2</td>\n",
              "    </tr>\n",
              "    <tr>\n",
              "      <th>2007-04-01</th>\n",
              "      <td>3.1</td>\n",
              "    </tr>\n",
              "    <tr>\n",
              "      <th>2007-05-01</th>\n",
              "      <td>3.1</td>\n",
              "    </tr>\n",
              "  </tbody>\n",
              "</table>\n",
              "</div>"
            ],
            "text/plain": [
              "            gdp_growth_ffill\n",
              "date                        \n",
              "2007-01-01               0.2\n",
              "2007-02-01               0.2\n",
              "2007-03-01               0.2\n",
              "2007-04-01               3.1\n",
              "2007-05-01               3.1"
            ]
          },
          "metadata": {
            "tags": []
          },
          "execution_count": 43
        }
      ]
    },
    {
      "cell_type": "markdown",
      "metadata": {
        "id": "MBAwDNSDZ8FS"
      },
      "source": [
        "Resampling data with `asfreq` as `'MS'` and applying `.interpolate()` method on missing values."
      ]
    },
    {
      "cell_type": "markdown",
      "metadata": {
        "id": "8EZMy617aYHb"
      },
      "source": [
        "`.interpolate()` -- finds points on the straight line between existing data."
      ]
    },
    {
      "cell_type": "code",
      "metadata": {
        "colab": {
          "base_uri": "https://localhost:8080/"
        },
        "id": "1OaTUqelb1zP",
        "outputId": "ab8dea16-1b60-4a6c-b4ac-f93c2bfb0503"
      },
      "source": [
        "gdp2 = gdp.resample('MS').interpolate().add_suffix('_interpolate')\r\n",
        "gdp2.info()"
      ],
      "execution_count": null,
      "outputs": [
        {
          "output_type": "stream",
          "text": [
            "<class 'pandas.core.frame.DataFrame'>\n",
            "DatetimeIndex: 121 entries, 2007-01-01 to 2017-01-01\n",
            "Freq: MS\n",
            "Data columns (total 1 columns):\n",
            " #   Column                  Non-Null Count  Dtype  \n",
            "---  ------                  --------------  -----  \n",
            " 0   gdp_growth_interpolate  121 non-null    float64\n",
            "dtypes: float64(1)\n",
            "memory usage: 1.9 KB\n"
          ],
          "name": "stdout"
        }
      ]
    },
    {
      "cell_type": "code",
      "metadata": {
        "colab": {
          "base_uri": "https://localhost:8080/",
          "height": 233
        },
        "id": "QWt4vuKlb8M6",
        "outputId": "db9bc5ca-8f80-45ce-c3c5-6b91c1816a3c"
      },
      "source": [
        "gdp2.head()"
      ],
      "execution_count": null,
      "outputs": [
        {
          "output_type": "execute_result",
          "data": {
            "text/html": [
              "<div>\n",
              "<style scoped>\n",
              "    .dataframe tbody tr th:only-of-type {\n",
              "        vertical-align: middle;\n",
              "    }\n",
              "\n",
              "    .dataframe tbody tr th {\n",
              "        vertical-align: top;\n",
              "    }\n",
              "\n",
              "    .dataframe thead th {\n",
              "        text-align: right;\n",
              "    }\n",
              "</style>\n",
              "<table border=\"1\" class=\"dataframe\">\n",
              "  <thead>\n",
              "    <tr style=\"text-align: right;\">\n",
              "      <th></th>\n",
              "      <th>gdp_growth_interpolate</th>\n",
              "    </tr>\n",
              "    <tr>\n",
              "      <th>date</th>\n",
              "      <th></th>\n",
              "    </tr>\n",
              "  </thead>\n",
              "  <tbody>\n",
              "    <tr>\n",
              "      <th>2007-01-01</th>\n",
              "      <td>0.200000</td>\n",
              "    </tr>\n",
              "    <tr>\n",
              "      <th>2007-02-01</th>\n",
              "      <td>1.166667</td>\n",
              "    </tr>\n",
              "    <tr>\n",
              "      <th>2007-03-01</th>\n",
              "      <td>2.133333</td>\n",
              "    </tr>\n",
              "    <tr>\n",
              "      <th>2007-04-01</th>\n",
              "      <td>3.100000</td>\n",
              "    </tr>\n",
              "    <tr>\n",
              "      <th>2007-05-01</th>\n",
              "      <td>2.966667</td>\n",
              "    </tr>\n",
              "  </tbody>\n",
              "</table>\n",
              "</div>"
            ],
            "text/plain": [
              "            gdp_growth_interpolate\n",
              "date                              \n",
              "2007-01-01                0.200000\n",
              "2007-02-01                1.166667\n",
              "2007-03-01                2.133333\n",
              "2007-04-01                3.100000\n",
              "2007-05-01                2.966667"
            ]
          },
          "metadata": {
            "tags": []
          },
          "execution_count": 45
        }
      ]
    },
    {
      "cell_type": "markdown",
      "metadata": {
        "id": "PAoZsC6AaDlq"
      },
      "source": [
        "Concatenating both the resampled datasets - `gdp1` and `gdp2` along the `axis=1`."
      ]
    },
    {
      "cell_type": "code",
      "metadata": {
        "colab": {
          "base_uri": "https://localhost:8080/"
        },
        "id": "DRG3F9DZcCmD",
        "outputId": "dc2835b1-cfc5-4dcf-f477-732f66c54edb"
      },
      "source": [
        "gdp3 = pd.concat([gdp1, gdp2], axis=1)\r\n",
        "gdp3.info()"
      ],
      "execution_count": null,
      "outputs": [
        {
          "output_type": "stream",
          "text": [
            "<class 'pandas.core.frame.DataFrame'>\n",
            "DatetimeIndex: 121 entries, 2007-01-01 to 2017-01-01\n",
            "Freq: MS\n",
            "Data columns (total 2 columns):\n",
            " #   Column                  Non-Null Count  Dtype  \n",
            "---  ------                  --------------  -----  \n",
            " 0   gdp_growth_ffill        121 non-null    float64\n",
            " 1   gdp_growth_interpolate  121 non-null    float64\n",
            "dtypes: float64(2)\n",
            "memory usage: 7.8 KB\n"
          ],
          "name": "stdout"
        }
      ]
    },
    {
      "cell_type": "markdown",
      "metadata": {
        "id": "5Fuvc6OQaQAf"
      },
      "source": [
        "Plotting the combined dataset"
      ]
    },
    {
      "cell_type": "code",
      "metadata": {
        "colab": {
          "base_uri": "https://localhost:8080/",
          "height": 279
        },
        "id": "dCiK4sJncfl0",
        "outputId": "8f4f6bc1-e86c-4f95-8bce-10ff9510e258"
      },
      "source": [
        "gdp3.plot()\r\n",
        "plt.show()"
      ],
      "execution_count": null,
      "outputs": [
        {
          "output_type": "display_data",
          "data": {
            "image/png": "[encoded data removed]",
            "text/plain": [
              "<Figure size 432x288 with 1 Axes>"
            ]
          },
          "metadata": {
            "tags": [],
            "needs_background": "light"
          }
        }
      ]
    },
    {
      "cell_type": "markdown",
      "metadata": {
        "id": "tF_j-c-YalGK"
      },
      "source": [
        "Slicing data for year `2015` and then plotting"
      ]
    },
    {
      "cell_type": "code",
      "metadata": {
        "colab": {
          "base_uri": "https://localhost:8080/",
          "height": 291
        },
        "id": "ytAjjzk9cje6",
        "outputId": "f70d97bc-257d-4798-a8a3-87a9536e9ee3"
      },
      "source": [
        "gdp3.loc['2015':].plot()\r\n",
        "plt.show()"
      ],
      "execution_count": null,
      "outputs": [
        {
          "output_type": "display_data",
          "data": {
            "image/png": "[encoded data removed]",
            "text/plain": [
              "<Figure size 432x288 with 1 Axes>"
            ]
          },
          "metadata": {
            "tags": [],
            "needs_background": "light"
          }
        }
      ]
    },
    {
      "cell_type": "markdown",
      "metadata": {
        "id": "3j7EVtmXRiim"
      },
      "source": [
        "##4.Downsampling & Aggregation methods"
      ]
    },
    {
      "cell_type": "markdown",
      "metadata": {
        "id": "3NRgQ8BCa6W2"
      },
      "source": [
        "###4.1 Ozone Data NYC"
      ]
    },
    {
      "cell_type": "markdown",
      "metadata": {
        "id": "lJ2LHngYbBaQ"
      },
      "source": [
        "Loading and Inspecting the data"
      ]
    },
    {
      "cell_type": "code",
      "metadata": {
        "colab": {
          "base_uri": "https://localhost:8080/"
        },
        "id": "fzW-TefIRnc6",
        "outputId": "4e2f19c5-21e0-452a-e3c4-a4dfd1e9b2d0"
      },
      "source": [
        "ozone = pd.read_csv(\"ozone_nyc.csv\", parse_dates=['date'], index_col='date')\r\n",
        "ozone.info()"
      ],
      "execution_count": null,
      "outputs": [
        {
          "output_type": "stream",
          "text": [
            "<class 'pandas.core.frame.DataFrame'>\n",
            "DatetimeIndex: 6291 entries, 2000-01-01 to 2017-03-31\n",
            "Data columns (total 1 columns):\n",
            " #   Column  Non-Null Count  Dtype  \n",
            "---  ------  --------------  -----  \n",
            " 0   Ozone   6167 non-null   float64\n",
            "dtypes: float64(1)\n",
            "memory usage: 98.3 KB\n"
          ],
          "name": "stdout"
        }
      ]
    },
    {
      "cell_type": "markdown",
      "metadata": {
        "id": "y9WyCNFXbKMz"
      },
      "source": [
        "Resampling ozone data as daily."
      ]
    },
    {
      "cell_type": "code",
      "metadata": {
        "colab": {
          "base_uri": "https://localhost:8080/"
        },
        "id": "WVfQrDwGSo47",
        "outputId": "c9e49e3e-0f3d-473a-ceb8-75c8c93c1464"
      },
      "source": [
        "ozone.resample('D').asfreq().info()"
      ],
      "execution_count": null,
      "outputs": [
        {
          "output_type": "stream",
          "text": [
            "<class 'pandas.core.frame.DataFrame'>\n",
            "DatetimeIndex: 6300 entries, 2000-01-01 to 2017-03-31\n",
            "Freq: D\n",
            "Data columns (total 1 columns):\n",
            " #   Column  Non-Null Count  Dtype  \n",
            "---  ------  --------------  -----  \n",
            " 0   Ozone   6167 non-null   float64\n",
            "dtypes: float64(1)\n",
            "memory usage: 98.4 KB\n"
          ],
          "name": "stdout"
        }
      ]
    },
    {
      "cell_type": "markdown",
      "metadata": {
        "id": "wzpgHqGgbUKW"
      },
      "source": [
        "Creating weekly ozone data - `ozone_w`"
      ]
    },
    {
      "cell_type": "code",
      "metadata": {
        "colab": {
          "base_uri": "https://localhost:8080/"
        },
        "id": "_5Zyr1Q0S34C",
        "outputId": "215556f0-21ca-4368-c971-cd19b7df0626"
      },
      "source": [
        "ozone_w = ozone.resample('W').mean()\r\n",
        "ozone_w.info()"
      ],
      "execution_count": null,
      "outputs": [
        {
          "output_type": "stream",
          "text": [
            "<class 'pandas.core.frame.DataFrame'>\n",
            "DatetimeIndex: 901 entries, 2000-01-02 to 2017-04-02\n",
            "Freq: W-SUN\n",
            "Data columns (total 1 columns):\n",
            " #   Column  Non-Null Count  Dtype  \n",
            "---  ------  --------------  -----  \n",
            " 0   Ozone   901 non-null    float64\n",
            "dtypes: float64(1)\n",
            "memory usage: 14.1 KB\n"
          ],
          "name": "stdout"
        }
      ]
    },
    {
      "cell_type": "code",
      "metadata": {
        "colab": {
          "base_uri": "https://localhost:8080/",
          "height": 233
        },
        "id": "HFMEYlJgTCl8",
        "outputId": "af117614-531b-4457-8e7c-0712e982262f"
      },
      "source": [
        "ozone_w.head()"
      ],
      "execution_count": null,
      "outputs": [
        {
          "output_type": "execute_result",
          "data": {
            "text/html": [
              "<div>\n",
              "<style scoped>\n",
              "    .dataframe tbody tr th:only-of-type {\n",
              "        vertical-align: middle;\n",
              "    }\n",
              "\n",
              "    .dataframe tbody tr th {\n",
              "        vertical-align: top;\n",
              "    }\n",
              "\n",
              "    .dataframe thead th {\n",
              "        text-align: right;\n",
              "    }\n",
              "</style>\n",
              "<table border=\"1\" class=\"dataframe\">\n",
              "  <thead>\n",
              "    <tr style=\"text-align: right;\">\n",
              "      <th></th>\n",
              "      <th>Ozone</th>\n",
              "    </tr>\n",
              "    <tr>\n",
              "      <th>date</th>\n",
              "      <th></th>\n",
              "    </tr>\n",
              "  </thead>\n",
              "  <tbody>\n",
              "    <tr>\n",
              "      <th>2000-01-02</th>\n",
              "      <td>0.006759</td>\n",
              "    </tr>\n",
              "    <tr>\n",
              "      <th>2000-01-09</th>\n",
              "      <td>0.008237</td>\n",
              "    </tr>\n",
              "    <tr>\n",
              "      <th>2000-01-16</th>\n",
              "      <td>0.012210</td>\n",
              "    </tr>\n",
              "    <tr>\n",
              "      <th>2000-01-23</th>\n",
              "      <td>0.012002</td>\n",
              "    </tr>\n",
              "    <tr>\n",
              "      <th>2000-01-30</th>\n",
              "      <td>0.011995</td>\n",
              "    </tr>\n",
              "  </tbody>\n",
              "</table>\n",
              "</div>"
            ],
            "text/plain": [
              "               Ozone\n",
              "date                \n",
              "2000-01-02  0.006759\n",
              "2000-01-09  0.008237\n",
              "2000-01-16  0.012210\n",
              "2000-01-23  0.012002\n",
              "2000-01-30  0.011995"
            ]
          },
          "metadata": {
            "tags": []
          },
          "execution_count": 54
        }
      ]
    },
    {
      "cell_type": "code",
      "metadata": {
        "colab": {
          "base_uri": "https://localhost:8080/",
          "height": 279
        },
        "id": "KYBWmoomTfA7",
        "outputId": "fb3d8d36-cc0b-498e-ada3-934d300293e4"
      },
      "source": [
        "ozone_w.plot()\r\n",
        "plt.show()"
      ],
      "execution_count": null,
      "outputs": [
        {
          "output_type": "display_data",
          "data": {
            "image/png": "[encoded data removed]",
            "text/plain": [
              "<Figure size 432x288 with 1 Axes>"
            ]
          },
          "metadata": {
            "tags": [],
            "needs_background": "light"
          }
        }
      ]
    },
    {
      "cell_type": "markdown",
      "metadata": {
        "id": "Pw7qgsCPbb31"
      },
      "source": [
        "Creating monthly ozone data - `ozone_m`"
      ]
    },
    {
      "cell_type": "code",
      "metadata": {
        "colab": {
          "base_uri": "https://localhost:8080/"
        },
        "id": "JOC05-jvTM50",
        "outputId": "ddba792d-9fe9-49ec-8486-cd2477f118e3"
      },
      "source": [
        "ozone_m = ozone.resample('M').mean()\r\n",
        "ozone_m.info()"
      ],
      "execution_count": null,
      "outputs": [
        {
          "output_type": "stream",
          "text": [
            "<class 'pandas.core.frame.DataFrame'>\n",
            "DatetimeIndex: 207 entries, 2000-01-31 to 2017-03-31\n",
            "Freq: M\n",
            "Data columns (total 1 columns):\n",
            " #   Column  Non-Null Count  Dtype  \n",
            "---  ------  --------------  -----  \n",
            " 0   Ozone   207 non-null    float64\n",
            "dtypes: float64(1)\n",
            "memory usage: 3.2 KB\n"
          ],
          "name": "stdout"
        }
      ]
    },
    {
      "cell_type": "code",
      "metadata": {
        "colab": {
          "base_uri": "https://localhost:8080/",
          "height": 233
        },
        "id": "AmEUgiv6TyVr",
        "outputId": "7da72e20-3af6-4d18-ef7a-d7fcda8b42ec"
      },
      "source": [
        "ozone_m.head()"
      ],
      "execution_count": null,
      "outputs": [
        {
          "output_type": "execute_result",
          "data": {
            "text/html": [
              "<div>\n",
              "<style scoped>\n",
              "    .dataframe tbody tr th:only-of-type {\n",
              "        vertical-align: middle;\n",
              "    }\n",
              "\n",
              "    .dataframe tbody tr th {\n",
              "        vertical-align: top;\n",
              "    }\n",
              "\n",
              "    .dataframe thead th {\n",
              "        text-align: right;\n",
              "    }\n",
              "</style>\n",
              "<table border=\"1\" class=\"dataframe\">\n",
              "  <thead>\n",
              "    <tr style=\"text-align: right;\">\n",
              "      <th></th>\n",
              "      <th>Ozone</th>\n",
              "    </tr>\n",
              "    <tr>\n",
              "      <th>date</th>\n",
              "      <th></th>\n",
              "    </tr>\n",
              "  </thead>\n",
              "  <tbody>\n",
              "    <tr>\n",
              "      <th>2000-01-31</th>\n",
              "      <td>0.010443</td>\n",
              "    </tr>\n",
              "    <tr>\n",
              "      <th>2000-02-29</th>\n",
              "      <td>0.011817</td>\n",
              "    </tr>\n",
              "    <tr>\n",
              "      <th>2000-03-31</th>\n",
              "      <td>0.016810</td>\n",
              "    </tr>\n",
              "    <tr>\n",
              "      <th>2000-04-30</th>\n",
              "      <td>0.019413</td>\n",
              "    </tr>\n",
              "    <tr>\n",
              "      <th>2000-05-31</th>\n",
              "      <td>0.026535</td>\n",
              "    </tr>\n",
              "  </tbody>\n",
              "</table>\n",
              "</div>"
            ],
            "text/plain": [
              "               Ozone\n",
              "date                \n",
              "2000-01-31  0.010443\n",
              "2000-02-29  0.011817\n",
              "2000-03-31  0.016810\n",
              "2000-04-30  0.019413\n",
              "2000-05-31  0.026535"
            ]
          },
          "metadata": {
            "tags": []
          },
          "execution_count": 59
        }
      ]
    },
    {
      "cell_type": "code",
      "metadata": {
        "colab": {
          "base_uri": "https://localhost:8080/",
          "height": 279
        },
        "id": "DzSazn7HT032",
        "outputId": "5d560884-0815-430e-9bfb-578241602d4c"
      },
      "source": [
        "ozone_m.plot()\r\n",
        "plt.show()"
      ],
      "execution_count": null,
      "outputs": [
        {
          "output_type": "display_data",
          "data": {
            "image/png": "[encoded data removed]",
            "text/plain": [
              "<Figure size 432x288 with 1 Axes>"
            ]
          },
          "metadata": {
            "tags": [],
            "needs_background": "light"
          }
        }
      ]
    },
    {
      "cell_type": "markdown",
      "metadata": {
        "id": "lXsrt8W2bikB"
      },
      "source": [
        "Creating annually ozone data - `ozone_a`"
      ]
    },
    {
      "cell_type": "code",
      "metadata": {
        "colab": {
          "base_uri": "https://localhost:8080/"
        },
        "id": "cAn6EUKSTWMz",
        "outputId": "fb1d1a9d-a7af-4dd3-f595-90ff46ba8d27"
      },
      "source": [
        "ozone_a = ozone.resample('A').mean()\r\n",
        "ozone_a.info()"
      ],
      "execution_count": null,
      "outputs": [
        {
          "output_type": "stream",
          "text": [
            "<class 'pandas.core.frame.DataFrame'>\n",
            "DatetimeIndex: 18 entries, 2000-12-31 to 2017-12-31\n",
            "Freq: A-DEC\n",
            "Data columns (total 1 columns):\n",
            " #   Column  Non-Null Count  Dtype  \n",
            "---  ------  --------------  -----  \n",
            " 0   Ozone   18 non-null     float64\n",
            "dtypes: float64(1)\n",
            "memory usage: 288.0 bytes\n"
          ],
          "name": "stdout"
        }
      ]
    },
    {
      "cell_type": "code",
      "metadata": {
        "colab": {
          "base_uri": "https://localhost:8080/",
          "height": 233
        },
        "id": "lv0FTDoKTcme",
        "outputId": "1b010d79-1913-42be-a006-00e7e54e26f2"
      },
      "source": [
        "ozone_a.head()"
      ],
      "execution_count": null,
      "outputs": [
        {
          "output_type": "execute_result",
          "data": {
            "text/html": [
              "<div>\n",
              "<style scoped>\n",
              "    .dataframe tbody tr th:only-of-type {\n",
              "        vertical-align: middle;\n",
              "    }\n",
              "\n",
              "    .dataframe tbody tr th {\n",
              "        vertical-align: top;\n",
              "    }\n",
              "\n",
              "    .dataframe thead th {\n",
              "        text-align: right;\n",
              "    }\n",
              "</style>\n",
              "<table border=\"1\" class=\"dataframe\">\n",
              "  <thead>\n",
              "    <tr style=\"text-align: right;\">\n",
              "      <th></th>\n",
              "      <th>Ozone</th>\n",
              "    </tr>\n",
              "    <tr>\n",
              "      <th>date</th>\n",
              "      <th></th>\n",
              "    </tr>\n",
              "  </thead>\n",
              "  <tbody>\n",
              "    <tr>\n",
              "      <th>2000-12-31</th>\n",
              "      <td>0.017821</td>\n",
              "    </tr>\n",
              "    <tr>\n",
              "      <th>2001-12-31</th>\n",
              "      <td>0.019622</td>\n",
              "    </tr>\n",
              "    <tr>\n",
              "      <th>2002-12-31</th>\n",
              "      <td>0.018557</td>\n",
              "    </tr>\n",
              "    <tr>\n",
              "      <th>2003-12-31</th>\n",
              "      <td>0.017583</td>\n",
              "    </tr>\n",
              "    <tr>\n",
              "      <th>2004-12-31</th>\n",
              "      <td>0.017236</td>\n",
              "    </tr>\n",
              "  </tbody>\n",
              "</table>\n",
              "</div>"
            ],
            "text/plain": [
              "               Ozone\n",
              "date                \n",
              "2000-12-31  0.017821\n",
              "2001-12-31  0.019622\n",
              "2002-12-31  0.018557\n",
              "2003-12-31  0.017583\n",
              "2004-12-31  0.017236"
            ]
          },
          "metadata": {
            "tags": []
          },
          "execution_count": 57
        }
      ]
    },
    {
      "cell_type": "code",
      "metadata": {
        "colab": {
          "base_uri": "https://localhost:8080/",
          "height": 279
        },
        "id": "7lY8umjKT5Wi",
        "outputId": "3196f24b-f6d7-4d4f-be2c-9946522952d1"
      },
      "source": [
        "ozone_a.plot()\r\n",
        "plt.show()"
      ],
      "execution_count": null,
      "outputs": [
        {
          "output_type": "display_data",
          "data": {
            "image/png": "[encoded data removed]",
            "text/plain": [
              "<Figure size 432x288 with 1 Axes>"
            ]
          },
          "metadata": {
            "tags": [],
            "needs_background": "light"
          }
        }
      ]
    },
    {
      "cell_type": "markdown",
      "metadata": {
        "id": "yfRLp7eNbtw2"
      },
      "source": [
        "Plotting resampled ozone data"
      ]
    },
    {
      "cell_type": "code",
      "metadata": {
        "colab": {
          "base_uri": "https://localhost:8080/",
          "height": 309
        },
        "id": "y1L2ubv8UMsL",
        "outputId": "223bf6ce-af5a-49d9-cd7c-8a4fd82d9bc7"
      },
      "source": [
        "ozone1 = ozone.loc['2016':] #Slicing data from year 2016 onwards\r\n",
        "ax = ozone1.plot()\r\n",
        "\r\n",
        "ozone1_m = ozone1.resample('M').mean()\r\n",
        "ozone1_m.add_suffix('_monthly').plot(ax=ax)"
      ],
      "execution_count": null,
      "outputs": [
        {
          "output_type": "execute_result",
          "data": {
            "text/plain": [
              "<matplotlib.axes._subplots.AxesSubplot at 0x7f3630d5d048>"
            ]
          },
          "metadata": {
            "tags": []
          },
          "execution_count": 62
        },
        {
          "output_type": "display_data",
          "data": {
            "image/png": "[encoded data removed]",
            "text/plain": [
              "<Figure size 432x288 with 1 Axes>"
            ]
          },
          "metadata": {
            "tags": [],
            "needs_background": "light"
          }
        }
      ]
    },
    {
      "cell_type": "markdown",
      "metadata": {
        "id": "Sn7yV17WcK3F"
      },
      "source": [
        "Aggregating `mean` and `std` statistics from monthly resampled data in `ozone2`."
      ]
    },
    {
      "cell_type": "code",
      "metadata": {
        "colab": {
          "base_uri": "https://localhost:8080/",
          "height": 263
        },
        "id": "CVvYg82gUsJU",
        "outputId": "6adec45f-b4bd-4ead-de9a-bfbbd24a7818"
      },
      "source": [
        "ozone2 = ozone.resample('M').agg(['mean','std'])\r\n",
        "ozone2.head()"
      ],
      "execution_count": null,
      "outputs": [
        {
          "output_type": "execute_result",
          "data": {
            "text/html": [
              "<div>\n",
              "<style scoped>\n",
              "    .dataframe tbody tr th:only-of-type {\n",
              "        vertical-align: middle;\n",
              "    }\n",
              "\n",
              "    .dataframe tbody tr th {\n",
              "        vertical-align: top;\n",
              "    }\n",
              "\n",
              "    .dataframe thead tr th {\n",
              "        text-align: left;\n",
              "    }\n",
              "\n",
              "    .dataframe thead tr:last-of-type th {\n",
              "        text-align: right;\n",
              "    }\n",
              "</style>\n",
              "<table border=\"1\" class=\"dataframe\">\n",
              "  <thead>\n",
              "    <tr>\n",
              "      <th></th>\n",
              "      <th colspan=\"2\" halign=\"left\">Ozone</th>\n",
              "    </tr>\n",
              "    <tr>\n",
              "      <th></th>\n",
              "      <th>mean</th>\n",
              "      <th>std</th>\n",
              "    </tr>\n",
              "    <tr>\n",
              "      <th>date</th>\n",
              "      <th></th>\n",
              "      <th></th>\n",
              "    </tr>\n",
              "  </thead>\n",
              "  <tbody>\n",
              "    <tr>\n",
              "      <th>2000-01-31</th>\n",
              "      <td>0.010443</td>\n",
              "      <td>0.004755</td>\n",
              "    </tr>\n",
              "    <tr>\n",
              "      <th>2000-02-29</th>\n",
              "      <td>0.011817</td>\n",
              "      <td>0.004072</td>\n",
              "    </tr>\n",
              "    <tr>\n",
              "      <th>2000-03-31</th>\n",
              "      <td>0.016810</td>\n",
              "      <td>0.004977</td>\n",
              "    </tr>\n",
              "    <tr>\n",
              "      <th>2000-04-30</th>\n",
              "      <td>0.019413</td>\n",
              "      <td>0.006574</td>\n",
              "    </tr>\n",
              "    <tr>\n",
              "      <th>2000-05-31</th>\n",
              "      <td>0.026535</td>\n",
              "      <td>0.008409</td>\n",
              "    </tr>\n",
              "  </tbody>\n",
              "</table>\n",
              "</div>"
            ],
            "text/plain": [
              "               Ozone          \n",
              "                mean       std\n",
              "date                          \n",
              "2000-01-31  0.010443  0.004755\n",
              "2000-02-29  0.011817  0.004072\n",
              "2000-03-31  0.016810  0.004977\n",
              "2000-04-30  0.019413  0.006574\n",
              "2000-05-31  0.026535  0.008409"
            ]
          },
          "metadata": {
            "tags": []
          },
          "execution_count": 64
        }
      ]
    },
    {
      "cell_type": "markdown",
      "metadata": {
        "id": "IZSZ2HlochG0"
      },
      "source": [
        "Visualizing monthly mean and standard deviation of Ozone levels in NYC."
      ]
    },
    {
      "cell_type": "code",
      "metadata": {
        "colab": {
          "base_uri": "https://localhost:8080/",
          "height": 269
        },
        "id": "AFu69C0cU235",
        "outputId": "7fe79e83-090d-4d62-910a-0037f6c6190c"
      },
      "source": [
        "ozone2.plot(subplots=True)\r\n",
        "plt.show()"
      ],
      "execution_count": null,
      "outputs": [
        {
          "output_type": "display_data",
          "data": {
            "image/png": "[encoded data removed]",
            "text/plain": [
              "<Figure size 432x288 with 2 Axes>"
            ]
          },
          "metadata": {
            "tags": [],
            "needs_background": "light"
          }
        }
      ]
    },
    {
      "cell_type": "markdown",
      "metadata": {
        "id": "Roxq1UkPfumQ"
      },
      "source": [
        "###4.2 GDP Growth and DJIA Data\r\n",
        "\r\n",
        "DJIA (Dow Jones Industrial Average) - Index of 30 large US stocks."
      ]
    },
    {
      "cell_type": "markdown",
      "metadata": {
        "id": "iRQ_3OoZdVT1"
      },
      "source": [
        "Loading and Inspecting the data"
      ]
    },
    {
      "cell_type": "code",
      "metadata": {
        "colab": {
          "base_uri": "https://localhost:8080/"
        },
        "id": "g990FpTmfx32",
        "outputId": "f2c9e2b5-dc39-4dc4-8623-6563d3d41268"
      },
      "source": [
        "gdp = pd.read_csv('gdp_growth.csv', parse_dates=['date'], index_col='date')\r\n",
        "print(gdp.info())\r\n",
        "print(gdp.head())"
      ],
      "execution_count": null,
      "outputs": [
        {
          "output_type": "stream",
          "text": [
            "<class 'pandas.core.frame.DataFrame'>\n",
            "DatetimeIndex: 41 entries, 2007-01-01 to 2017-01-01\n",
            "Data columns (total 1 columns):\n",
            " #   Column      Non-Null Count  Dtype  \n",
            "---  ------      --------------  -----  \n",
            " 0   gdp_growth  41 non-null     float64\n",
            "dtypes: float64(1)\n",
            "memory usage: 656.0 bytes\n",
            "None\n",
            "            gdp_growth\n",
            "date                  \n",
            "2007-01-01         0.2\n",
            "2007-04-01         3.1\n",
            "2007-07-01         2.7\n",
            "2007-10-01         1.4\n",
            "2008-01-01        -2.7\n"
          ],
          "name": "stdout"
        }
      ]
    },
    {
      "cell_type": "markdown",
      "metadata": {
        "id": "YXElAREqdY9R"
      },
      "source": [
        "Loading and Inspecting the Data"
      ]
    },
    {
      "cell_type": "code",
      "metadata": {
        "colab": {
          "base_uri": "https://localhost:8080/"
        },
        "id": "JnQUW5WAgGAH",
        "outputId": "583712a3-daa5-4403-e587-68e212b31aed"
      },
      "source": [
        "djia = pd.read_csv('djia.csv', parse_dates=['date'], index_col='date')\r\n",
        "print(djia.info())\r\n",
        "print(djia.head())"
      ],
      "execution_count": null,
      "outputs": [
        {
          "output_type": "stream",
          "text": [
            "<class 'pandas.core.frame.DataFrame'>\n",
            "DatetimeIndex: 2610 entries, 2007-06-29 to 2017-06-29\n",
            "Data columns (total 1 columns):\n",
            " #   Column  Non-Null Count  Dtype  \n",
            "---  ------  --------------  -----  \n",
            " 0   djia    2519 non-null   float64\n",
            "dtypes: float64(1)\n",
            "memory usage: 40.8 KB\n",
            "None\n",
            "                djia\n",
            "date                \n",
            "2007-06-29  13408.62\n",
            "2007-07-02  13535.43\n",
            "2007-07-03  13577.30\n",
            "2007-07-04       NaN\n",
            "2007-07-05  13565.84\n"
          ],
          "name": "stdout"
        }
      ]
    },
    {
      "cell_type": "markdown",
      "metadata": {
        "id": "IixkqtOidgEA"
      },
      "source": [
        "Resampling `djia` data using frequency alias `QS` and aggregating using `.first()` and assigning the result to `djia_quaterly`."
      ]
    },
    {
      "cell_type": "code",
      "metadata": {
        "colab": {
          "base_uri": "https://localhost:8080/"
        },
        "id": "lwfQgVJ5gVAL",
        "outputId": "137f0ff8-c5d1-4049-98f0-01abe8a43a7c"
      },
      "source": [
        "djia_quaterly = djia.resample('QS').first()\r\n",
        "print(djia_quaterly)"
      ],
      "execution_count": null,
      "outputs": [
        {
          "output_type": "stream",
          "text": [
            "                djia\n",
            "date                \n",
            "2007-04-01  13408.62\n",
            "2007-07-01  13535.43\n",
            "2007-10-01  14087.55\n",
            "2008-01-01  13043.96\n",
            "2008-04-01  12654.36\n",
            "2008-07-01  11382.26\n",
            "2008-10-01  10831.07\n",
            "2009-01-01   9034.69\n",
            "2009-04-01   7761.60\n",
            "2009-07-01   8504.06\n",
            "2009-10-01   9509.28\n",
            "2010-01-01  10583.96\n",
            "2010-04-01  10927.07\n",
            "2010-07-01   9732.53\n",
            "2010-10-01  10829.68\n",
            "2011-01-01  11670.75\n",
            "2011-04-01  12376.72\n",
            "2011-07-01  12582.77\n",
            "2011-10-01  10655.30\n",
            "2012-01-01  12397.38\n",
            "2012-04-01  13264.49\n",
            "2012-07-01  12871.39\n",
            "2012-10-01  13515.11\n",
            "2013-01-01  13412.55\n",
            "2013-04-01  14572.85\n",
            "2013-07-01  14974.96\n",
            "2013-10-01  15191.70\n",
            "2014-01-01  16441.35\n",
            "2014-04-01  16532.61\n",
            "2014-07-01  16956.07\n",
            "2014-10-01  16804.71\n",
            "2015-01-01  17832.99\n",
            "2015-04-01  17698.18\n",
            "2015-07-01  17757.91\n",
            "2015-10-01  16272.01\n",
            "2016-01-01  17148.94\n",
            "2016-04-01  17792.75\n",
            "2016-07-01  17949.37\n",
            "2016-10-01  18253.85\n",
            "2017-01-01  19881.76\n",
            "2017-04-01  20650.21\n"
          ],
          "name": "stdout"
        }
      ]
    },
    {
      "cell_type": "code",
      "metadata": {
        "id": "782LVVWihLIk"
      },
      "source": [
        "djia_quaterly_return = djia_quaterly.pct_change().mul(100) #To obtain percent change b/w 2 adjacent values"
      ],
      "execution_count": null,
      "outputs": []
    },
    {
      "cell_type": "markdown",
      "metadata": {
        "id": "O-a4eoS0eFz6"
      },
      "source": [
        "Concatenating `gdp` and `djia_quaterly_return` datasets along `axis=1`.\r\n",
        "\r\n",
        "`axis=1` -- concatenate horizontally."
      ]
    },
    {
      "cell_type": "code",
      "metadata": {
        "colab": {
          "base_uri": "https://localhost:8080/"
        },
        "id": "Y64da5qShZnG",
        "outputId": "3544116f-f9bf-4f5b-9ffc-0b7e68c2e432"
      },
      "source": [
        "df = pd.concat([gdp, djia_quaterly_return], axis=1)\r\n",
        "df.info()"
      ],
      "execution_count": null,
      "outputs": [
        {
          "output_type": "stream",
          "text": [
            "<class 'pandas.core.frame.DataFrame'>\n",
            "DatetimeIndex: 42 entries, 2007-01-01 to 2017-04-01\n",
            "Freq: QS-OCT\n",
            "Data columns (total 2 columns):\n",
            " #   Column      Non-Null Count  Dtype  \n",
            "---  ------      --------------  -----  \n",
            " 0   gdp_growth  41 non-null     float64\n",
            " 1   djia        40 non-null     float64\n",
            "dtypes: float64(2)\n",
            "memory usage: 1008.0 bytes\n"
          ],
          "name": "stdout"
        }
      ]
    },
    {
      "cell_type": "code",
      "metadata": {
        "id": "adb8H3gdhhdm"
      },
      "source": [
        "df.columns = ['gdp', 'djia']"
      ],
      "execution_count": null,
      "outputs": []
    },
    {
      "cell_type": "code",
      "metadata": {
        "colab": {
          "base_uri": "https://localhost:8080/"
        },
        "id": "0cAfHdQvhvYE",
        "outputId": "1b5860bf-80fc-41c7-e599-e085bc3b73b8"
      },
      "source": [
        "df.info()"
      ],
      "execution_count": null,
      "outputs": [
        {
          "output_type": "stream",
          "text": [
            "<class 'pandas.core.frame.DataFrame'>\n",
            "DatetimeIndex: 42 entries, 2007-01-01 to 2017-04-01\n",
            "Freq: QS-OCT\n",
            "Data columns (total 2 columns):\n",
            " #   Column  Non-Null Count  Dtype  \n",
            "---  ------  --------------  -----  \n",
            " 0   gdp     41 non-null     float64\n",
            " 1   djia    40 non-null     float64\n",
            "dtypes: float64(2)\n",
            "memory usage: 1008.0 bytes\n"
          ],
          "name": "stdout"
        }
      ]
    },
    {
      "cell_type": "markdown",
      "metadata": {
        "id": "zYTDsLbneepJ"
      },
      "source": [
        "Plotting the data"
      ]
    },
    {
      "cell_type": "code",
      "metadata": {
        "colab": {
          "base_uri": "https://localhost:8080/",
          "height": 279
        },
        "id": "TWTxs8eJhw-g",
        "outputId": "b546caf0-eb70-4af6-e87f-d8258552235f"
      },
      "source": [
        "df.plot()\r\n",
        "plt.show()"
      ],
      "execution_count": null,
      "outputs": [
        {
          "output_type": "display_data",
          "data": {
            "image/png": "[encoded data removed]",
            "text/plain": [
              "<Figure size 432x288 with 1 Axes>"
            ]
          },
          "metadata": {
            "tags": [],
            "needs_background": "light"
          }
        }
      ]
    },
    {
      "cell_type": "markdown",
      "metadata": {
        "id": "ybvMGhNsenHs"
      },
      "source": [
        "## Conclusion\r\n",
        "\r\n",
        "In this jupyter notebook, we have learnt about how to compare different time series by normalizing their start points. After that we have learnt about resampling and its types."
      ]
    }
  ]
}