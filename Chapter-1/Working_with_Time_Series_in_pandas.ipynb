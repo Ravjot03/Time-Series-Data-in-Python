{
  "nbformat": 4,
  "nbformat_minor": 0,
  "metadata": {
    "colab": {
      "name": "Working_with_Time_Series_in_pandas_Manipulating_Chapter-1_DataCamp.ipynb",
      "provenance": [],
      "collapsed_sections": [],
      "toc_visible": true
    },
    "kernelspec": {
      "name": "python3",
      "display_name": "Python 3"
    }
  },
  "cells": [
    {
      "cell_type": "markdown",
      "metadata": {
        "id": "rzT9fIUmJ4JV"
      },
      "source": [
        "# Working with Time Series in pandas"
      ]
    },
    {
      "cell_type": "markdown",
      "metadata": {
        "id": "jrFb9MQTLLHz"
      },
      "source": [
        "## Work By - **RAVJOT SINGH**\r\n",
        "\r\n",
        "E-Mail - ravjot313@gmail.com\r\n",
        "\r\n",
        "Website - https://ravjot03.github.io/\r\n",
        "\r\n",
        "LinkedIn - https://www.linkedin.com/in/ravjot03/\r\n",
        "\r\n",
        "GitHub - https://github.com/Ravjot03\r\n",
        "\r\n",
        "Medium - https://medium.com/@ravjot03"
      ]
    },
    {
      "cell_type": "markdown",
      "metadata": {
        "id": "9ngjW6v0Tq7z"
      },
      "source": [
        "##Table of Contents\r\n",
        "\r\n",
        "\r\n",
        "---\r\n",
        "\r\n",
        "\r\n",
        "1 Dates & Times in pandas\r\n",
        "\r\n",
        "1.1 Importing the required libraries\r\n",
        "\r\n",
        "1.2 Basic building block - pd.Timestamp\r\n",
        "\r\n",
        "1.3 pd.Timestamp attributes\r\n",
        "\r\n",
        "1.4 More building blocks - pd.Period\r\n",
        "\r\n",
        "1.5 Basic date arithmetic\r\n",
        "\r\n",
        "1.6 Sequences of dates and times\r\n",
        "\r\n",
        "1.7 Time Series\r\n",
        "\r\n",
        "\r\n",
        "---\r\n",
        "\r\n",
        "\r\n",
        "2 Indexing & Resampling Time series\r\n",
        "\r\n",
        "2.1 Air Quality Data - NYC\r\n",
        "\r\n",
        "2.11 Importing the required libraries\r\n",
        "\r\n",
        "2.12 Loading the dataset\r\n",
        "\r\n",
        "2.13 Exploratory Data Analysis & Data Manipulation\r\n",
        "\r\n",
        "2.131 Convert the string dates to datetime64\r\n",
        "\r\n",
        "2.132 Setting the date column as index\r\n",
        "\r\n",
        "2.14 Plotting the data\r\n",
        "\r\n",
        "2.15 Partial string indexing\r\n",
        "\r\n",
        "2.2 Google Stock Prices Data\r\n",
        "\r\n",
        "2.21 Loading the dataset\r\n",
        "\r\n",
        "2.22 Inspecting the data\r\n",
        "\r\n",
        "2.23 Dropping Null values from the dataset\r\n",
        "\r\n",
        "2.24 Changing the time series frequency\r\n",
        "\r\n",
        "2.25 Plotting the data\r\n",
        "\r\n",
        "\r\n",
        "---\r\n",
        "\r\n",
        "3 Lags, Changes & Returns\r\n",
        "\r\n",
        "3.1 Loading the dataset\r\n",
        "\r\n",
        "3.2 Inspecting the data\r\n",
        "\r\n",
        "3.3 Data Manipulations\r\n",
        "\r\n",
        "3.31 .shift() - Moving data between past and future.\r\n",
        "\r\n",
        "3.32 One-period percent change\r\n",
        "\r\n",
        "3.33 .diff() - Built in time series change\r\n",
        "\r\n",
        "3.34 .pct_change() - Built in time series percent change\r\n",
        "\r\n",
        "3.35 Multi-period returns\r\n",
        "\r\n",
        "---\r\n",
        "\r\n",
        "Conclusion\r\n",
        "\r\n",
        "---"
      ]
    },
    {
      "cell_type": "markdown",
      "metadata": {
        "id": "wAcjhZUmZ5km"
      },
      "source": [
        "##1 Dates & Times in pandas"
      ]
    },
    {
      "cell_type": "markdown",
      "metadata": {
        "id": "0fa1aWlNY8qn"
      },
      "source": [
        "###1.1 Importing the required libraries"
      ]
    },
    {
      "cell_type": "code",
      "metadata": {
        "id": "lOpviZWC0hM7"
      },
      "source": [
        "import pandas as pd\r\n",
        "from datetime import datetime"
      ],
      "execution_count": 76,
      "outputs": []
    },
    {
      "cell_type": "markdown",
      "metadata": {
        "id": "YqTFFAt_ZFfL"
      },
      "source": [
        "###1.2 Basic building block - `pd.Timestamp`"
      ]
    },
    {
      "cell_type": "code",
      "metadata": {
        "id": "J0cl0X3Z0mi8"
      },
      "source": [
        "time_stamp = pd.Timestamp(datetime(1999, 9, 3))"
      ],
      "execution_count": 77,
      "outputs": []
    },
    {
      "cell_type": "code",
      "metadata": {
        "colab": {
          "base_uri": "https://localhost:8080/"
        },
        "id": "iMxGkte900hC",
        "outputId": "e8cca129-bbe0-410e-fd72-6af369889e09"
      },
      "source": [
        "type(time_stamp)"
      ],
      "execution_count": 78,
      "outputs": [
        {
          "output_type": "execute_result",
          "data": {
            "text/plain": [
              "pandas._libs.tslibs.timestamps.Timestamp"
            ]
          },
          "metadata": {
            "tags": []
          },
          "execution_count": 78
        }
      ]
    },
    {
      "cell_type": "code",
      "metadata": {
        "id": "feJXR7oh03Dt"
      },
      "source": [
        "time_stamp1 = pd.Timestamp(\"1999-9-3\")"
      ],
      "execution_count": 79,
      "outputs": []
    },
    {
      "cell_type": "code",
      "metadata": {
        "colab": {
          "base_uri": "https://localhost:8080/"
        },
        "id": "LSIIBDa40--z",
        "outputId": "85d1f3f2-255d-4e42-ef44-394ed762bd10"
      },
      "source": [
        "type(time_stamp1)"
      ],
      "execution_count": 80,
      "outputs": [
        {
          "output_type": "execute_result",
          "data": {
            "text/plain": [
              "pandas._libs.tslibs.timestamps.Timestamp"
            ]
          },
          "metadata": {
            "tags": []
          },
          "execution_count": 80
        }
      ]
    },
    {
      "cell_type": "code",
      "metadata": {
        "colab": {
          "base_uri": "https://localhost:8080/"
        },
        "id": "ucbVoACM1B09",
        "outputId": "15014655-23b1-466e-9f21-44e323532f9f"
      },
      "source": [
        "time_stamp == time_stamp1\r\n",
        "#Understands dates as strings"
      ],
      "execution_count": 81,
      "outputs": [
        {
          "output_type": "execute_result",
          "data": {
            "text/plain": [
              "True"
            ]
          },
          "metadata": {
            "tags": []
          },
          "execution_count": 81
        }
      ]
    },
    {
      "cell_type": "code",
      "metadata": {
        "colab": {
          "base_uri": "https://localhost:8080/"
        },
        "id": "-r0Zjq5b1Hii",
        "outputId": "a8dcb0a4-fc99-47be-d5a5-6dc775af9fe6"
      },
      "source": [
        "print(time_stamp)\r\n",
        "print(time_stamp1)"
      ],
      "execution_count": 82,
      "outputs": [
        {
          "output_type": "stream",
          "text": [
            "1999-09-03 00:00:00\n",
            "1999-09-03 00:00:00\n"
          ],
          "name": "stdout"
        }
      ]
    },
    {
      "cell_type": "markdown",
      "metadata": {
        "id": "oK3TqkcgZlm7"
      },
      "source": [
        "###1.3 `pd.Timestamp` attributes\r\n",
        "\r\n",
        "Timestamp object has many attributes to store time-specific information."
      ]
    },
    {
      "cell_type": "code",
      "metadata": {
        "colab": {
          "base_uri": "https://localhost:8080/"
        },
        "id": "8DK9HJK52rE6",
        "outputId": "3e023514-1495-4a42-9286-0923cececace"
      },
      "source": [
        "time_stamp.year"
      ],
      "execution_count": 83,
      "outputs": [
        {
          "output_type": "execute_result",
          "data": {
            "text/plain": [
              "1999"
            ]
          },
          "metadata": {
            "tags": []
          },
          "execution_count": 83
        }
      ]
    },
    {
      "cell_type": "code",
      "metadata": {
        "colab": {
          "base_uri": "https://localhost:8080/"
        },
        "id": "is22SsLg2tjD",
        "outputId": "4395f5da-773d-47d1-d0d3-bd80eaef534a"
      },
      "source": [
        "time_stamp.month"
      ],
      "execution_count": 84,
      "outputs": [
        {
          "output_type": "execute_result",
          "data": {
            "text/plain": [
              "9"
            ]
          },
          "metadata": {
            "tags": []
          },
          "execution_count": 84
        }
      ]
    },
    {
      "cell_type": "code",
      "metadata": {
        "colab": {
          "base_uri": "https://localhost:8080/"
        },
        "id": "wJ7260Rl2xWc",
        "outputId": "f2c86901-5ced-44b6-8fca-e3d4d1366c7e"
      },
      "source": [
        "time_stamp.day"
      ],
      "execution_count": 85,
      "outputs": [
        {
          "output_type": "execute_result",
          "data": {
            "text/plain": [
              "3"
            ]
          },
          "metadata": {
            "tags": []
          },
          "execution_count": 85
        }
      ]
    },
    {
      "cell_type": "code",
      "metadata": {
        "colab": {
          "base_uri": "https://localhost:8080/",
          "height": 35
        },
        "id": "NSZC_QnA2zXJ",
        "outputId": "b9a572e1-28cc-4d27-9233-e22a4a455a80"
      },
      "source": [
        "time_stamp.day_name()"
      ],
      "execution_count": 86,
      "outputs": [
        {
          "output_type": "execute_result",
          "data": {
            "application/vnd.google.colaboratory.intrinsic+json": {
              "type": "string"
            },
            "text/plain": [
              "'Friday'"
            ]
          },
          "metadata": {
            "tags": []
          },
          "execution_count": 86
        }
      ]
    },
    {
      "cell_type": "code",
      "metadata": {
        "colab": {
          "base_uri": "https://localhost:8080/"
        },
        "id": "xWOB39bf3d2K",
        "outputId": "99b1b8bd-ed7f-4a0e-a8ac-cb1119fba57d"
      },
      "source": [
        "time_stamp.dayofweek"
      ],
      "execution_count": 87,
      "outputs": [
        {
          "output_type": "execute_result",
          "data": {
            "text/plain": [
              "4"
            ]
          },
          "metadata": {
            "tags": []
          },
          "execution_count": 87
        }
      ]
    },
    {
      "cell_type": "code",
      "metadata": {
        "colab": {
          "base_uri": "https://localhost:8080/"
        },
        "id": "hVeq12bK3lvC",
        "outputId": "9aba3762-6b08-40b6-8a74-a5545d6b7d09"
      },
      "source": [
        "time_stamp.dayofyear"
      ],
      "execution_count": 88,
      "outputs": [
        {
          "output_type": "execute_result",
          "data": {
            "text/plain": [
              "246"
            ]
          },
          "metadata": {
            "tags": []
          },
          "execution_count": 88
        }
      ]
    },
    {
      "cell_type": "markdown",
      "metadata": {
        "id": "MdNgFuR_Z881"
      },
      "source": [
        "###1.4 More building blocks - `pd.Period`\r\n",
        "\r\n",
        "Period object has freq attribute to store frequency info."
      ]
    },
    {
      "cell_type": "code",
      "metadata": {
        "colab": {
          "base_uri": "https://localhost:8080/"
        },
        "id": "rgNasheL4lSo",
        "outputId": "0b978aee-7e9d-4689-fba0-3fd07afef19b"
      },
      "source": [
        "period = pd.Period('2017-01')  #default month-end\r\n",
        "period"
      ],
      "execution_count": 89,
      "outputs": [
        {
          "output_type": "execute_result",
          "data": {
            "text/plain": [
              "Period('2017-01', 'M')"
            ]
          },
          "metadata": {
            "tags": []
          },
          "execution_count": 89
        }
      ]
    },
    {
      "cell_type": "code",
      "metadata": {
        "colab": {
          "base_uri": "https://localhost:8080/"
        },
        "id": "Pc-idxU-4w2x",
        "outputId": "1f48f88f-1e3a-4fcc-cb08-c20730064f77"
      },
      "source": [
        "period.asfreq('D')  #Convert freq to daily"
      ],
      "execution_count": 90,
      "outputs": [
        {
          "output_type": "execute_result",
          "data": {
            "text/plain": [
              "Period('2017-01-31', 'D')"
            ]
          },
          "metadata": {
            "tags": []
          },
          "execution_count": 90
        }
      ]
    },
    {
      "cell_type": "code",
      "metadata": {
        "colab": {
          "base_uri": "https://localhost:8080/"
        },
        "id": "q-blmjLY40Dy",
        "outputId": "ffc047ea-d47e-4fc9-eabc-119e65fc4298"
      },
      "source": [
        " x = period.to_timestamp(how='E')  #Convert pd.Period() to pd.Timestamp()\r\n",
        " x"
      ],
      "execution_count": 91,
      "outputs": [
        {
          "output_type": "execute_result",
          "data": {
            "text/plain": [
              "Timestamp('2017-01-31 23:59:59.999999999')"
            ]
          },
          "metadata": {
            "tags": []
          },
          "execution_count": 91
        }
      ]
    },
    {
      "cell_type": "code",
      "metadata": {
        "colab": {
          "base_uri": "https://localhost:8080/"
        },
        "id": "OYUmdFtO5PMB",
        "outputId": "4929eb02-4ccc-4378-8b30-357b11ab6d98"
      },
      "source": [
        "type(x)"
      ],
      "execution_count": 92,
      "outputs": [
        {
          "output_type": "execute_result",
          "data": {
            "text/plain": [
              "pandas._libs.tslibs.timestamps.Timestamp"
            ]
          },
          "metadata": {
            "tags": []
          },
          "execution_count": 92
        }
      ]
    },
    {
      "cell_type": "code",
      "metadata": {
        "colab": {
          "base_uri": "https://localhost:8080/"
        },
        "id": "mUw2sQli5Q7F",
        "outputId": "08b3a524-00f2-4efc-82e0-396be550971d"
      },
      "source": [
        "y = x.to_period('D')  ##Converting pd.Timestamp to pd.Period\r\n",
        "y"
      ],
      "execution_count": 93,
      "outputs": [
        {
          "output_type": "execute_result",
          "data": {
            "text/plain": [
              "Period('2017-01-31', 'D')"
            ]
          },
          "metadata": {
            "tags": []
          },
          "execution_count": 93
        }
      ]
    },
    {
      "cell_type": "code",
      "metadata": {
        "colab": {
          "base_uri": "https://localhost:8080/"
        },
        "id": "vPtXiW-l6Yv7",
        "outputId": "60c7c0f5-bcee-4f48-dad4-77f677fc3bd6"
      },
      "source": [
        "type(y)"
      ],
      "execution_count": 94,
      "outputs": [
        {
          "output_type": "execute_result",
          "data": {
            "text/plain": [
              "pandas._libs.tslibs.period.Period"
            ]
          },
          "metadata": {
            "tags": []
          },
          "execution_count": 94
        }
      ]
    },
    {
      "cell_type": "markdown",
      "metadata": {
        "id": "96rXbtfPa1Xj"
      },
      "source": [
        "###1.5 Basic date arithmetic"
      ]
    },
    {
      "cell_type": "code",
      "metadata": {
        "colab": {
          "base_uri": "https://localhost:8080/"
        },
        "id": "-l5ntnn_6k8w",
        "outputId": "c829c4ad-6e04-405e-b00b-fdbb677836fb"
      },
      "source": [
        "pd.Period('2018, 1') + 2"
      ],
      "execution_count": 95,
      "outputs": [
        {
          "output_type": "execute_result",
          "data": {
            "text/plain": [
              "Period('2018-03', 'M')"
            ]
          },
          "metadata": {
            "tags": []
          },
          "execution_count": 95
        }
      ]
    },
    {
      "cell_type": "code",
      "metadata": {
        "id": "hsKe30Lp-4QW"
      },
      "source": [
        "#pd.Timestamp('2018-1-1','M') + 2"
      ],
      "execution_count": 96,
      "outputs": []
    },
    {
      "cell_type": "code",
      "metadata": {
        "colab": {
          "base_uri": "https://localhost:8080/"
        },
        "id": "lp1IHdgO9Ug5",
        "outputId": "4533eb71-8c0e-450f-9381-0814379a3e16"
      },
      "source": [
        "pd.Timestamp('2018-1-1','M') + pd.offsets.MonthBegin(2)"
      ],
      "execution_count": 97,
      "outputs": [
        {
          "output_type": "execute_result",
          "data": {
            "text/plain": [
              "Timestamp('2018-03-01 00:00:00', freq='M')"
            ]
          },
          "metadata": {
            "tags": []
          },
          "execution_count": 97
        }
      ]
    },
    {
      "cell_type": "markdown",
      "metadata": {
        "id": "TraXCMeda8KD"
      },
      "source": [
        "###1.6 Sequences of dates and times\r\n",
        "\r\n",
        "`pd.date_range()` : `start`, `end`, `periods`, `freq`"
      ]
    },
    {
      "cell_type": "markdown",
      "metadata": {
        "id": "ucsVZTmJbplw"
      },
      "source": [
        "Specify `start` and `end`, with the default daily frequency."
      ]
    },
    {
      "cell_type": "code",
      "metadata": {
        "colab": {
          "base_uri": "https://localhost:8080/"
        },
        "id": "rv4q5osNVrDs",
        "outputId": "25942e65-6c83-420c-bea8-fa3f11301cc4"
      },
      "source": [
        "pd.date_range(start='1/1/2020', end='1/10/2020')"
      ],
      "execution_count": 98,
      "outputs": [
        {
          "output_type": "execute_result",
          "data": {
            "text/plain": [
              "DatetimeIndex(['2020-01-01', '2020-01-02', '2020-01-03', '2020-01-04',\n",
              "               '2020-01-05', '2020-01-06', '2020-01-07', '2020-01-08',\n",
              "               '2020-01-09', '2020-01-10'],\n",
              "              dtype='datetime64[ns]', freq='D')"
            ]
          },
          "metadata": {
            "tags": []
          },
          "execution_count": 98
        }
      ]
    },
    {
      "cell_type": "markdown",
      "metadata": {
        "id": "P_V--KIobQQF"
      },
      "source": [
        "`pd.DatetimeIndex` : sequence of Timestamp objects with frequency info"
      ]
    },
    {
      "cell_type": "markdown",
      "metadata": {
        "id": "kW7sunB0buAs"
      },
      "source": [
        "Specify `start` and `periods`, the number of periods (days)."
      ]
    },
    {
      "cell_type": "code",
      "metadata": {
        "colab": {
          "base_uri": "https://localhost:8080/"
        },
        "id": "zclI175NV9Df",
        "outputId": "a574f868-7498-4ac6-d8a2-83c9634e0a33"
      },
      "source": [
        "pd.date_range(start='1/1/2020', periods=10)"
      ],
      "execution_count": 99,
      "outputs": [
        {
          "output_type": "execute_result",
          "data": {
            "text/plain": [
              "DatetimeIndex(['2020-01-01', '2020-01-02', '2020-01-03', '2020-01-04',\n",
              "               '2020-01-05', '2020-01-06', '2020-01-07', '2020-01-08',\n",
              "               '2020-01-09', '2020-01-10'],\n",
              "              dtype='datetime64[ns]', freq='D')"
            ]
          },
          "metadata": {
            "tags": []
          },
          "execution_count": 99
        }
      ]
    },
    {
      "cell_type": "markdown",
      "metadata": {
        "id": "tB0BRBpXcAeb"
      },
      "source": [
        "Specify `end` and `periods`, the number of periods (days)."
      ]
    },
    {
      "cell_type": "code",
      "metadata": {
        "colab": {
          "base_uri": "https://localhost:8080/"
        },
        "id": "6VN6BlGNWG9A",
        "outputId": "95a674b1-93b6-444c-ba7e-af10b9f8fd9b"
      },
      "source": [
        "pd.date_range(end='1/10/2020', periods=10)"
      ],
      "execution_count": 100,
      "outputs": [
        {
          "output_type": "execute_result",
          "data": {
            "text/plain": [
              "DatetimeIndex(['2020-01-01', '2020-01-02', '2020-01-03', '2020-01-04',\n",
              "               '2020-01-05', '2020-01-06', '2020-01-07', '2020-01-08',\n",
              "               '2020-01-09', '2020-01-10'],\n",
              "              dtype='datetime64[ns]', freq='D')"
            ]
          },
          "metadata": {
            "tags": []
          },
          "execution_count": 100
        }
      ]
    },
    {
      "cell_type": "markdown",
      "metadata": {
        "id": "TJ661te7b6Mr"
      },
      "source": [
        "Specify `start`, `end`, and `periods`; the frequency is generated automatically (linearly spaced)."
      ]
    },
    {
      "cell_type": "code",
      "metadata": {
        "colab": {
          "base_uri": "https://localhost:8080/"
        },
        "id": "0rrM7mzDWTxH",
        "outputId": "cbdbda22-9d19-4a0f-b4d1-1a7c35005266"
      },
      "source": [
        "pd.date_range(start='1/1/2020', end='1/10/2020', periods=5)"
      ],
      "execution_count": 101,
      "outputs": [
        {
          "output_type": "execute_result",
          "data": {
            "text/plain": [
              "DatetimeIndex(['2020-01-01 00:00:00', '2020-01-03 06:00:00',\n",
              "               '2020-01-05 12:00:00', '2020-01-07 18:00:00',\n",
              "               '2020-01-10 00:00:00'],\n",
              "              dtype='datetime64[ns]', freq=None)"
            ]
          },
          "metadata": {
            "tags": []
          },
          "execution_count": 101
        }
      ]
    },
    {
      "cell_type": "markdown",
      "metadata": {
        "id": "7Z0sdJMWcMzq"
      },
      "source": [
        "Changed the `freq` (frequency) to 'M' (month end frequency)."
      ]
    },
    {
      "cell_type": "code",
      "metadata": {
        "colab": {
          "base_uri": "https://localhost:8080/"
        },
        "id": "YNc6moOhWmaQ",
        "outputId": "1cd5fd05-eba6-4ea4-d5e1-74af4f74c598"
      },
      "source": [
        "pd.date_range(start='1/1/2020', periods=12, freq='M')"
      ],
      "execution_count": 102,
      "outputs": [
        {
          "output_type": "execute_result",
          "data": {
            "text/plain": [
              "DatetimeIndex(['2020-01-31', '2020-02-29', '2020-03-31', '2020-04-30',\n",
              "               '2020-05-31', '2020-06-30', '2020-07-31', '2020-08-31',\n",
              "               '2020-09-30', '2020-10-31', '2020-11-30', '2020-12-31'],\n",
              "              dtype='datetime64[ns]', freq='M')"
            ]
          },
          "metadata": {
            "tags": []
          },
          "execution_count": 102
        }
      ]
    },
    {
      "cell_type": "markdown",
      "metadata": {
        "id": "m3WzM-vEcQEE"
      },
      "source": [
        "Changed the `freq` (frequency) to 'MS' (month start frequency)."
      ]
    },
    {
      "cell_type": "code",
      "metadata": {
        "colab": {
          "base_uri": "https://localhost:8080/"
        },
        "id": "bKDB9ubbWukZ",
        "outputId": "320841b3-6def-42e2-fb9e-16ea623f0a99"
      },
      "source": [
        "pd.date_range(start='1/1/2020', periods=12, freq='MS')"
      ],
      "execution_count": 103,
      "outputs": [
        {
          "output_type": "execute_result",
          "data": {
            "text/plain": [
              "DatetimeIndex(['2020-01-01', '2020-02-01', '2020-03-01', '2020-04-01',\n",
              "               '2020-05-01', '2020-06-01', '2020-07-01', '2020-08-01',\n",
              "               '2020-09-01', '2020-10-01', '2020-11-01', '2020-12-01'],\n",
              "              dtype='datetime64[ns]', freq='MS')"
            ]
          },
          "metadata": {
            "tags": []
          },
          "execution_count": 103
        }
      ]
    },
    {
      "cell_type": "markdown",
      "metadata": {
        "id": "8OhNHXlacXeA"
      },
      "source": [
        "Multiples are allowed"
      ]
    },
    {
      "cell_type": "code",
      "metadata": {
        "colab": {
          "base_uri": "https://localhost:8080/"
        },
        "id": "jUJ_779SW0Vw",
        "outputId": "0f4873f7-a8ef-445f-8c8b-9da1629930a1"
      },
      "source": [
        "pd.date_range(start='1/1/2020', periods=4, freq='3M')"
      ],
      "execution_count": 104,
      "outputs": [
        {
          "output_type": "execute_result",
          "data": {
            "text/plain": [
              "DatetimeIndex(['2020-01-31', '2020-04-30', '2020-07-31', '2020-10-31'], dtype='datetime64[ns]', freq='3M')"
            ]
          },
          "metadata": {
            "tags": []
          },
          "execution_count": 104
        }
      ]
    },
    {
      "cell_type": "markdown",
      "metadata": {
        "id": "deQyYJVIcYvn"
      },
      "source": [
        "`freq` can also be specified as an Offset object."
      ]
    },
    {
      "cell_type": "code",
      "metadata": {
        "colab": {
          "base_uri": "https://localhost:8080/"
        },
        "id": "ZxmSOA8IXd1o",
        "outputId": "35749cc9-c967-4a99-a4d7-7e44d3744cd1"
      },
      "source": [
        "pd.date_range(start='1/1/2020', periods=4, freq=pd.offsets.MonthEnd(3))"
      ],
      "execution_count": 105,
      "outputs": [
        {
          "output_type": "execute_result",
          "data": {
            "text/plain": [
              "DatetimeIndex(['2020-01-31', '2020-04-30', '2020-07-31', '2020-10-31'], dtype='datetime64[ns]', freq='3M')"
            ]
          },
          "metadata": {
            "tags": []
          },
          "execution_count": 105
        }
      ]
    },
    {
      "cell_type": "code",
      "metadata": {
        "colab": {
          "base_uri": "https://localhost:8080/"
        },
        "id": "bs_Q3r2n-8NF",
        "outputId": "688c3466-7965-4c8f-bca7-b698bc92febf"
      },
      "source": [
        "pd.date_range(start='2020-1-1', end='2020-2-29',freq='D')"
      ],
      "execution_count": 106,
      "outputs": [
        {
          "output_type": "execute_result",
          "data": {
            "text/plain": [
              "DatetimeIndex(['2020-01-01', '2020-01-02', '2020-01-03', '2020-01-04',\n",
              "               '2020-01-05', '2020-01-06', '2020-01-07', '2020-01-08',\n",
              "               '2020-01-09', '2020-01-10', '2020-01-11', '2020-01-12',\n",
              "               '2020-01-13', '2020-01-14', '2020-01-15', '2020-01-16',\n",
              "               '2020-01-17', '2020-01-18', '2020-01-19', '2020-01-20',\n",
              "               '2020-01-21', '2020-01-22', '2020-01-23', '2020-01-24',\n",
              "               '2020-01-25', '2020-01-26', '2020-01-27', '2020-01-28',\n",
              "               '2020-01-29', '2020-01-30', '2020-01-31', '2020-02-01',\n",
              "               '2020-02-02', '2020-02-03', '2020-02-04', '2020-02-05',\n",
              "               '2020-02-06', '2020-02-07', '2020-02-08', '2020-02-09',\n",
              "               '2020-02-10', '2020-02-11', '2020-02-12', '2020-02-13',\n",
              "               '2020-02-14', '2020-02-15', '2020-02-16', '2020-02-17',\n",
              "               '2020-02-18', '2020-02-19', '2020-02-20', '2020-02-21',\n",
              "               '2020-02-22', '2020-02-23', '2020-02-24', '2020-02-25',\n",
              "               '2020-02-26', '2020-02-27', '2020-02-28', '2020-02-29'],\n",
              "              dtype='datetime64[ns]', freq='D')"
            ]
          },
          "metadata": {
            "tags": []
          },
          "execution_count": 106
        }
      ]
    },
    {
      "cell_type": "code",
      "metadata": {
        "colab": {
          "base_uri": "https://localhost:8080/"
        },
        "id": "9wXU2u9VUpep",
        "outputId": "daae5a70-6789-4404-ad70-23626df7321d"
      },
      "source": [
        "pd.date_range(start='2020-1-1', end='2020-12-31',freq='M')"
      ],
      "execution_count": 107,
      "outputs": [
        {
          "output_type": "execute_result",
          "data": {
            "text/plain": [
              "DatetimeIndex(['2020-01-31', '2020-02-29', '2020-03-31', '2020-04-30',\n",
              "               '2020-05-31', '2020-06-30', '2020-07-31', '2020-08-31',\n",
              "               '2020-09-30', '2020-10-31', '2020-11-30', '2020-12-31'],\n",
              "              dtype='datetime64[ns]', freq='M')"
            ]
          },
          "metadata": {
            "tags": []
          },
          "execution_count": 107
        }
      ]
    },
    {
      "cell_type": "markdown",
      "metadata": {
        "id": "E6GwUNzhcvCn"
      },
      "source": [
        "###1.7 Time series"
      ]
    },
    {
      "cell_type": "code",
      "metadata": {
        "colab": {
          "base_uri": "https://localhost:8080/"
        },
        "id": "E4mqoldTYFXo",
        "outputId": "6f7bc0ca-8d4b-4339-99c5-d35066f056a0"
      },
      "source": [
        "# Create the range of dates here\r\n",
        "seven_days = pd.date_range(start='2020-12-27', periods=7)\r\n",
        "\r\n",
        "# Iterate over the dates and print the number and name of the weekday\r\n",
        "for day in seven_days:\r\n",
        "    print(day.dayofweek, day.day_name())"
      ],
      "execution_count": 108,
      "outputs": [
        {
          "output_type": "stream",
          "text": [
            "6 Sunday\n",
            "0 Monday\n",
            "1 Tuesday\n",
            "2 Wednesday\n",
            "3 Thursday\n",
            "4 Friday\n",
            "5 Saturday\n"
          ],
          "name": "stdout"
        }
      ]
    },
    {
      "cell_type": "markdown",
      "metadata": {
        "id": "g1UAsfvSZyrR"
      },
      "source": [
        "##2 Indexing & Resampling Time series"
      ]
    },
    {
      "cell_type": "markdown",
      "metadata": {
        "id": "Hs1Zpsmxd0ZF"
      },
      "source": [
        "What do you mean by Time series transformation ?\r\n",
        "\r\n",
        "Basic time series transformations includes - \r\n",
        "\r\n",
        "1.  Parsing string dates and converting it to `datetime64`.\r\n",
        "2.  Selecting and slicing for specific subperiods.\r\n",
        "3.  Setting and changing `DatetimeIndex` frequency - Upsampling or Downsampling."
      ]
    },
    {
      "cell_type": "markdown",
      "metadata": {
        "id": "LByImdq6atgk"
      },
      "source": [
        "###2.1 Air Quality Data - NYC"
      ]
    },
    {
      "cell_type": "markdown",
      "metadata": {
        "id": "mmJS4Nr8dNVY"
      },
      "source": [
        "####2.11 Importing the required libraries"
      ]
    },
    {
      "cell_type": "code",
      "metadata": {
        "id": "xZXYBGC9bnd4"
      },
      "source": [
        "import matplotlib.pyplot as plt"
      ],
      "execution_count": 109,
      "outputs": []
    },
    {
      "cell_type": "markdown",
      "metadata": {
        "id": "lp1z2iPyc3hp"
      },
      "source": [
        "####2.12 Loading the dataset"
      ]
    },
    {
      "cell_type": "code",
      "metadata": {
        "id": "DX0ZhQVXZ1mm"
      },
      "source": [
        "df = pd.read_csv('/content/nyc.csv')"
      ],
      "execution_count": 110,
      "outputs": []
    },
    {
      "cell_type": "markdown",
      "metadata": {
        "id": "w27RkUA6c9yy"
      },
      "source": [
        "####2.13 Exploratory Data Analysis & Data Manipulation"
      ]
    },
    {
      "cell_type": "markdown",
      "metadata": {
        "id": "MMACoTOodiEB"
      },
      "source": [
        "The info() function is used to print a concise summary of a DataFrame."
      ]
    },
    {
      "cell_type": "code",
      "metadata": {
        "colab": {
          "base_uri": "https://localhost:8080/"
        },
        "id": "OCYbggEfa7CV",
        "outputId": "8da1568c-d27b-4528-ec4c-97bddfac089c"
      },
      "source": [
        "df.info()"
      ],
      "execution_count": 111,
      "outputs": [
        {
          "output_type": "stream",
          "text": [
            "<class 'pandas.core.frame.DataFrame'>\n",
            "RangeIndex: 6317 entries, 0 to 6316\n",
            "Data columns (total 4 columns):\n",
            " #   Column  Non-Null Count  Dtype  \n",
            "---  ------  --------------  -----  \n",
            " 0   date    6317 non-null   object \n",
            " 1   ozone   6317 non-null   float64\n",
            " 2   pm25    6317 non-null   float64\n",
            " 3   co      6317 non-null   float64\n",
            "dtypes: float64(3), object(1)\n",
            "memory usage: 197.5+ KB\n"
          ],
          "name": "stdout"
        }
      ]
    },
    {
      "cell_type": "markdown",
      "metadata": {
        "id": "dJo0sh4BbCVd"
      },
      "source": [
        "#####2.131 Convert the string dates to `datetime64`"
      ]
    },
    {
      "cell_type": "code",
      "metadata": {
        "id": "geYJWB7za88F"
      },
      "source": [
        "df.date = pd.to_datetime(df.date)"
      ],
      "execution_count": 112,
      "outputs": []
    },
    {
      "cell_type": "code",
      "metadata": {
        "colab": {
          "base_uri": "https://localhost:8080/"
        },
        "id": "ayqMMTTNbNKn",
        "outputId": "039d04fd-3ae8-4c08-ec4b-3ecaaa3201a7"
      },
      "source": [
        "df.info()"
      ],
      "execution_count": 113,
      "outputs": [
        {
          "output_type": "stream",
          "text": [
            "<class 'pandas.core.frame.DataFrame'>\n",
            "RangeIndex: 6317 entries, 0 to 6316\n",
            "Data columns (total 4 columns):\n",
            " #   Column  Non-Null Count  Dtype         \n",
            "---  ------  --------------  -----         \n",
            " 0   date    6317 non-null   datetime64[ns]\n",
            " 1   ozone   6317 non-null   float64       \n",
            " 2   pm25    6317 non-null   float64       \n",
            " 3   co      6317 non-null   float64       \n",
            "dtypes: datetime64[ns](1), float64(3)\n",
            "memory usage: 197.5 KB\n"
          ],
          "name": "stdout"
        }
      ]
    },
    {
      "cell_type": "markdown",
      "metadata": {
        "id": "uy01hrBEe2eM"
      },
      "source": [
        "#####2.132 Setting the `date` column as index"
      ]
    },
    {
      "cell_type": "code",
      "metadata": {
        "id": "IBDUXcK6bPhY"
      },
      "source": [
        "df.set_index('date', inplace=True)"
      ],
      "execution_count": 114,
      "outputs": []
    },
    {
      "cell_type": "code",
      "metadata": {
        "colab": {
          "base_uri": "https://localhost:8080/"
        },
        "id": "Uy6h1vtfbWmP",
        "outputId": "88f4f469-40e9-4e17-eef7-fb7e4475553b"
      },
      "source": [
        "df.info()"
      ],
      "execution_count": 115,
      "outputs": [
        {
          "output_type": "stream",
          "text": [
            "<class 'pandas.core.frame.DataFrame'>\n",
            "DatetimeIndex: 6317 entries, 1999-07-01 to 2017-03-31\n",
            "Data columns (total 3 columns):\n",
            " #   Column  Non-Null Count  Dtype  \n",
            "---  ------  --------------  -----  \n",
            " 0   ozone   6317 non-null   float64\n",
            " 1   pm25    6317 non-null   float64\n",
            " 2   co      6317 non-null   float64\n",
            "dtypes: float64(3)\n",
            "memory usage: 197.4 KB\n"
          ],
          "name": "stdout"
        }
      ]
    },
    {
      "cell_type": "markdown",
      "metadata": {
        "id": "VtX3ET8Oe-ZK"
      },
      "source": [
        "####2.14 Plotting the data"
      ]
    },
    {
      "cell_type": "code",
      "metadata": {
        "colab": {
          "base_uri": "https://localhost:8080/",
          "height": 269
        },
        "id": "MfKXe82mbi4q",
        "outputId": "e31906e2-3042-4347-8600-012dbe7ff12b"
      },
      "source": [
        "df.plot(subplots=True)\r\n",
        "plt.show()"
      ],
      "execution_count": 116,
      "outputs": [
        {
          "output_type": "display_data",
          "data": {
            "image/png": "[encoded data removed]",
            "text/plain": [
              "<Figure size 432x288 with 3 Axes>"
            ]
          },
          "metadata": {
            "tags": [],
            "needs_background": "light"
          }
        }
      ]
    },
    {
      "cell_type": "markdown",
      "metadata": {
        "id": "kAQDwstOfW5s"
      },
      "source": [
        "####2.15 Partial string indexing"
      ]
    },
    {
      "cell_type": "code",
      "metadata": {
        "colab": {
          "base_uri": "https://localhost:8080/",
          "height": 277
        },
        "id": "FJgu04PwcrWH",
        "outputId": "b4b96eed-fd14-43d7-aa9f-3603274cc2e9"
      },
      "source": [
        "df.loc['2012'].plot(subplots=True)\r\n",
        "plt.show()"
      ],
      "execution_count": 117,
      "outputs": [
        {
          "output_type": "display_data",
          "data": {
            "image/png": "[encoded data removed]",
            "text/plain": [
              "<Figure size 432x288 with 3 Axes>"
            ]
          },
          "metadata": {
            "tags": [],
            "needs_background": "light"
          }
        }
      ]
    },
    {
      "cell_type": "code",
      "metadata": {
        "colab": {
          "base_uri": "https://localhost:8080/",
          "height": 291
        },
        "id": "K2_Z_EVxczlO",
        "outputId": "f7ddf80b-7333-4f71-a918-30ff7fb27e02"
      },
      "source": [
        "df.loc['2015'].ozone.plot()\r\n",
        "plt.show()"
      ],
      "execution_count": 118,
      "outputs": [
        {
          "output_type": "display_data",
          "data": {
            "image/png": "[encoded data removed]",
            "text/plain": [
              "<Figure size 432x288 with 1 Axes>"
            ]
          },
          "metadata": {
            "tags": [],
            "needs_background": "light"
          }
        }
      ]
    },
    {
      "cell_type": "code",
      "metadata": {
        "colab": {
          "base_uri": "https://localhost:8080/",
          "height": 291
        },
        "id": "nlxPNGHoc_jG",
        "outputId": "25c08934-c328-49a8-ca57-dfa0cb8b15e4"
      },
      "source": [
        "df.loc['2015','pm25'].plot(color='y')\r\n",
        "plt.show()"
      ],
      "execution_count": 119,
      "outputs": [
        {
          "output_type": "display_data",
          "data": {
            "image/png": "[encoded data removed]",
            "text/plain": [
              "<Figure size 432x288 with 1 Axes>"
            ]
          },
          "metadata": {
            "tags": [],
            "needs_background": "light"
          }
        }
      ]
    },
    {
      "cell_type": "code",
      "metadata": {
        "colab": {
          "base_uri": "https://localhost:8080/",
          "height": 277
        },
        "id": "Ta8z1O6gcbxO",
        "outputId": "9e4d56b8-604e-4b1a-fa30-37f2d6fb1150"
      },
      "source": [
        "df.loc['2008':'2010'].plot(subplots=True)\r\n",
        "plt.show()"
      ],
      "execution_count": 120,
      "outputs": [
        {
          "output_type": "display_data",
          "data": {
            "image/png": "[encoded data removed]",
            "text/plain": [
              "<Figure size 432x288 with 3 Axes>"
            ]
          },
          "metadata": {
            "tags": [],
            "needs_background": "light"
          }
        }
      ]
    },
    {
      "cell_type": "code",
      "metadata": {
        "colab": {
          "base_uri": "https://localhost:8080/",
          "height": 277
        },
        "id": "hhCw_4iIdkwg",
        "outputId": "4178661e-e28d-48ed-bf1c-9ab701241c20"
      },
      "source": [
        "df.loc['2008':'2010', ['ozone','co']].plot(subplots=True)\r\n",
        "plt.show()"
      ],
      "execution_count": 121,
      "outputs": [
        {
          "output_type": "display_data",
          "data": {
            "image/png": "[encoded data removed]",
            "text/plain": [
              "<Figure size 432x288 with 2 Axes>"
            ]
          },
          "metadata": {
            "tags": [],
            "needs_background": "light"
          }
        }
      ]
    },
    {
      "cell_type": "code",
      "metadata": {
        "colab": {
          "base_uri": "https://localhost:8080/"
        },
        "id": "BpcqWnd8duWG",
        "outputId": "40a9c422-f7ec-45da-8db4-9612e5077029"
      },
      "source": [
        "df.loc['2016-1-1','pm25']"
      ],
      "execution_count": 122,
      "outputs": [
        {
          "output_type": "execute_result",
          "data": {
            "text/plain": [
              "2.862500000000008"
            ]
          },
          "metadata": {
            "tags": []
          },
          "execution_count": 122
        }
      ]
    },
    {
      "cell_type": "code",
      "metadata": {
        "colab": {
          "base_uri": "https://localhost:8080/"
        },
        "id": "U3ePx77Dd1na",
        "outputId": "c61a7f28-3cd1-4ca4-c5fc-7a5a2b55e15e"
      },
      "source": [
        "df.loc['2016','ozone']"
      ],
      "execution_count": 123,
      "outputs": [
        {
          "output_type": "execute_result",
          "data": {
            "text/plain": [
              "date\n",
              "2016-01-01    0.023206\n",
              "2016-01-02    0.016853\n",
              "2016-01-03    0.018488\n",
              "2016-01-04    0.022117\n",
              "2016-01-05    0.008279\n",
              "                ...   \n",
              "2016-12-27    0.018073\n",
              "2016-12-28    0.013250\n",
              "2016-12-29    0.013103\n",
              "2016-12-30    0.017118\n",
              "2016-12-31    0.024000\n",
              "Name: ozone, Length: 366, dtype: float64"
            ]
          },
          "metadata": {
            "tags": []
          },
          "execution_count": 123
        }
      ]
    },
    {
      "cell_type": "code",
      "metadata": {
        "colab": {
          "base_uri": "https://localhost:8080/"
        },
        "id": "pzjVRxbMd5rx",
        "outputId": "00275f0a-a002-4e00-d956-ec24bbc46cbb"
      },
      "source": [
        "df.loc['2016','ozone'].mean()"
      ],
      "execution_count": 124,
      "outputs": [
        {
          "output_type": "execute_result",
          "data": {
            "text/plain": [
              "0.02647883356102003"
            ]
          },
          "metadata": {
            "tags": []
          },
          "execution_count": 124
        }
      ]
    },
    {
      "cell_type": "code",
      "metadata": {
        "colab": {
          "base_uri": "https://localhost:8080/"
        },
        "id": "zSHj7TkJeCUJ",
        "outputId": "6507da2a-665f-4579-989b-5719bb7c1b22"
      },
      "source": [
        "df.loc['2016','ozone'].median()"
      ],
      "execution_count": 125,
      "outputs": [
        {
          "output_type": "execute_result",
          "data": {
            "text/plain": [
              "0.025268599999999995"
            ]
          },
          "metadata": {
            "tags": []
          },
          "execution_count": 125
        }
      ]
    },
    {
      "cell_type": "markdown",
      "metadata": {
        "id": "i9xVKNDlewaE"
      },
      "source": [
        "###2.2 Google Stock Prices Data"
      ]
    },
    {
      "cell_type": "markdown",
      "metadata": {
        "id": "0OiF2kNch0-1"
      },
      "source": [
        "####2.21 Loading the dataset\r\n",
        "Parsing `Date` string to convert it into convert `datetime64` and setting it as index column."
      ]
    },
    {
      "cell_type": "code",
      "metadata": {
        "id": "o7Z4AS40ey4d"
      },
      "source": [
        "google = pd.read_csv('google.csv', parse_dates=['Date'], index_col='Date')"
      ],
      "execution_count": 126,
      "outputs": []
    },
    {
      "cell_type": "markdown",
      "metadata": {
        "id": "nNorauwJiLuI"
      },
      "source": [
        "####2.22 Inspecting the data "
      ]
    },
    {
      "cell_type": "code",
      "metadata": {
        "colab": {
          "base_uri": "https://localhost:8080/"
        },
        "id": "IdCiesedfUPR",
        "outputId": "61ec8365-a369-47b0-f4b4-bc22b050d97d"
      },
      "source": [
        "google.info()"
      ],
      "execution_count": 127,
      "outputs": [
        {
          "output_type": "stream",
          "text": [
            "<class 'pandas.core.frame.DataFrame'>\n",
            "DatetimeIndex: 1094 entries, 2014-01-02 to 2016-12-30\n",
            "Data columns (total 1 columns):\n",
            " #   Column  Non-Null Count  Dtype  \n",
            "---  ------  --------------  -----  \n",
            " 0   Close   756 non-null    float64\n",
            "dtypes: float64(1)\n",
            "memory usage: 17.1 KB\n"
          ],
          "name": "stdout"
        }
      ]
    },
    {
      "cell_type": "markdown",
      "metadata": {
        "id": "bgGN8VfeiTSs"
      },
      "source": [
        "####2.23 Dropping Null values from the dataset"
      ]
    },
    {
      "cell_type": "code",
      "metadata": {
        "id": "cL0euerCe7ra"
      },
      "source": [
        "google.dropna(axis=0, inplace=True)"
      ],
      "execution_count": 128,
      "outputs": []
    },
    {
      "cell_type": "code",
      "metadata": {
        "colab": {
          "base_uri": "https://localhost:8080/"
        },
        "id": "cBhM7UydfRtS",
        "outputId": "e8ec0d65-f8ee-49fe-cb64-6e4c016664df"
      },
      "source": [
        "google.info()"
      ],
      "execution_count": 129,
      "outputs": [
        {
          "output_type": "stream",
          "text": [
            "<class 'pandas.core.frame.DataFrame'>\n",
            "DatetimeIndex: 756 entries, 2014-01-02 to 2016-12-30\n",
            "Data columns (total 1 columns):\n",
            " #   Column  Non-Null Count  Dtype  \n",
            "---  ------  --------------  -----  \n",
            " 0   Close   756 non-null    float64\n",
            "dtypes: float64(1)\n",
            "memory usage: 11.8 KB\n"
          ],
          "name": "stdout"
        }
      ]
    },
    {
      "cell_type": "markdown",
      "metadata": {
        "id": "qgChOJrfihY0"
      },
      "source": [
        "####2.24 Changing the time series frequency"
      ]
    },
    {
      "cell_type": "markdown",
      "metadata": {
        "id": "oWS9b-kNjJ4l"
      },
      "source": [
        "`asfreq('D')` -- Convert `DatetimeIndex` to calender day frequency."
      ]
    },
    {
      "cell_type": "code",
      "metadata": {
        "colab": {
          "base_uri": "https://localhost:8080/"
        },
        "id": "PItUD1X2fvgg",
        "outputId": "e4930b4c-389f-4c31-a55b-a9c2b4a1a666"
      },
      "source": [
        "google.asfreq('D').info()  #Sets calender day frequency - 'D'"
      ],
      "execution_count": 130,
      "outputs": [
        {
          "output_type": "stream",
          "text": [
            "<class 'pandas.core.frame.DataFrame'>\n",
            "DatetimeIndex: 1094 entries, 2014-01-02 to 2016-12-30\n",
            "Freq: D\n",
            "Data columns (total 1 columns):\n",
            " #   Column  Non-Null Count  Dtype  \n",
            "---  ------  --------------  -----  \n",
            " 0   Close   756 non-null    float64\n",
            "dtypes: float64(1)\n",
            "memory usage: 17.1 KB\n"
          ],
          "name": "stdout"
        }
      ]
    },
    {
      "cell_type": "markdown",
      "metadata": {
        "id": "FhMjrFv4jeVu"
      },
      "source": [
        "**Upsampling** -- \r\n",
        "\r\n",
        "Higher frequency implies new dates => missing data"
      ]
    },
    {
      "cell_type": "code",
      "metadata": {
        "colab": {
          "base_uri": "https://localhost:8080/",
          "height": 233
        },
        "id": "946e3t-sgdrO",
        "outputId": "169a5e90-d451-4aba-9170-7415183ae356"
      },
      "source": [
        "google.asfreq('D').head(5)"
      ],
      "execution_count": 131,
      "outputs": [
        {
          "output_type": "execute_result",
          "data": {
            "text/html": [
              "<div>\n",
              "<style scoped>\n",
              "    .dataframe tbody tr th:only-of-type {\n",
              "        vertical-align: middle;\n",
              "    }\n",
              "\n",
              "    .dataframe tbody tr th {\n",
              "        vertical-align: top;\n",
              "    }\n",
              "\n",
              "    .dataframe thead th {\n",
              "        text-align: right;\n",
              "    }\n",
              "</style>\n",
              "<table border=\"1\" class=\"dataframe\">\n",
              "  <thead>\n",
              "    <tr style=\"text-align: right;\">\n",
              "      <th></th>\n",
              "      <th>Close</th>\n",
              "    </tr>\n",
              "    <tr>\n",
              "      <th>Date</th>\n",
              "      <th></th>\n",
              "    </tr>\n",
              "  </thead>\n",
              "  <tbody>\n",
              "    <tr>\n",
              "      <th>2014-01-02</th>\n",
              "      <td>556.00</td>\n",
              "    </tr>\n",
              "    <tr>\n",
              "      <th>2014-01-03</th>\n",
              "      <td>551.95</td>\n",
              "    </tr>\n",
              "    <tr>\n",
              "      <th>2014-01-04</th>\n",
              "      <td>NaN</td>\n",
              "    </tr>\n",
              "    <tr>\n",
              "      <th>2014-01-05</th>\n",
              "      <td>NaN</td>\n",
              "    </tr>\n",
              "    <tr>\n",
              "      <th>2014-01-06</th>\n",
              "      <td>558.10</td>\n",
              "    </tr>\n",
              "  </tbody>\n",
              "</table>\n",
              "</div>"
            ],
            "text/plain": [
              "             Close\n",
              "Date              \n",
              "2014-01-02  556.00\n",
              "2014-01-03  551.95\n",
              "2014-01-04     NaN\n",
              "2014-01-05     NaN\n",
              "2014-01-06  558.10"
            ]
          },
          "metadata": {
            "tags": []
          },
          "execution_count": 131
        }
      ]
    },
    {
      "cell_type": "markdown",
      "metadata": {
        "id": "yyRaul9Ujyg5"
      },
      "source": [
        "`asfreq('B')` -- Converts `DatetimeIndex` to business day frequency."
      ]
    },
    {
      "cell_type": "code",
      "metadata": {
        "colab": {
          "base_uri": "https://localhost:8080/"
        },
        "id": "dxkeCbAjhhO1",
        "outputId": "1e5830a4-338d-4fb2-ad5d-ae59eac9e20b"
      },
      "source": [
        "google.asfreq('B').info()  #Business days - 'B'"
      ],
      "execution_count": 132,
      "outputs": [
        {
          "output_type": "stream",
          "text": [
            "<class 'pandas.core.frame.DataFrame'>\n",
            "DatetimeIndex: 782 entries, 2014-01-02 to 2016-12-30\n",
            "Freq: B\n",
            "Data columns (total 1 columns):\n",
            " #   Column  Non-Null Count  Dtype  \n",
            "---  ------  --------------  -----  \n",
            " 0   Close   756 non-null    float64\n",
            "dtypes: float64(1)\n",
            "memory usage: 12.2 KB\n"
          ],
          "name": "stdout"
        }
      ]
    },
    {
      "cell_type": "code",
      "metadata": {
        "id": "dkPDqQBTgqGj"
      },
      "source": [
        "google = google.asfreq('B')"
      ],
      "execution_count": 133,
      "outputs": []
    },
    {
      "cell_type": "markdown",
      "metadata": {
        "id": "g46BpdQYj_H_"
      },
      "source": [
        "Selecting Missing values from `Close` column in the dataset."
      ]
    },
    {
      "cell_type": "code",
      "metadata": {
        "colab": {
          "base_uri": "https://localhost:8080/",
          "height": 877
        },
        "id": "9H-JMXgAg3dL",
        "outputId": "259b5d65-5f35-4122-b24d-3bb1dd7fa501"
      },
      "source": [
        "google[google.Close.isnull()]"
      ],
      "execution_count": 134,
      "outputs": [
        {
          "output_type": "execute_result",
          "data": {
            "text/html": [
              "<div>\n",
              "<style scoped>\n",
              "    .dataframe tbody tr th:only-of-type {\n",
              "        vertical-align: middle;\n",
              "    }\n",
              "\n",
              "    .dataframe tbody tr th {\n",
              "        vertical-align: top;\n",
              "    }\n",
              "\n",
              "    .dataframe thead th {\n",
              "        text-align: right;\n",
              "    }\n",
              "</style>\n",
              "<table border=\"1\" class=\"dataframe\">\n",
              "  <thead>\n",
              "    <tr style=\"text-align: right;\">\n",
              "      <th></th>\n",
              "      <th>Close</th>\n",
              "    </tr>\n",
              "    <tr>\n",
              "      <th>Date</th>\n",
              "      <th></th>\n",
              "    </tr>\n",
              "  </thead>\n",
              "  <tbody>\n",
              "    <tr>\n",
              "      <th>2014-01-20</th>\n",
              "      <td>NaN</td>\n",
              "    </tr>\n",
              "    <tr>\n",
              "      <th>2014-02-17</th>\n",
              "      <td>NaN</td>\n",
              "    </tr>\n",
              "    <tr>\n",
              "      <th>2014-04-18</th>\n",
              "      <td>NaN</td>\n",
              "    </tr>\n",
              "    <tr>\n",
              "      <th>2014-05-26</th>\n",
              "      <td>NaN</td>\n",
              "    </tr>\n",
              "    <tr>\n",
              "      <th>2014-07-04</th>\n",
              "      <td>NaN</td>\n",
              "    </tr>\n",
              "    <tr>\n",
              "      <th>2014-09-01</th>\n",
              "      <td>NaN</td>\n",
              "    </tr>\n",
              "    <tr>\n",
              "      <th>2014-11-27</th>\n",
              "      <td>NaN</td>\n",
              "    </tr>\n",
              "    <tr>\n",
              "      <th>2014-12-25</th>\n",
              "      <td>NaN</td>\n",
              "    </tr>\n",
              "    <tr>\n",
              "      <th>2015-01-01</th>\n",
              "      <td>NaN</td>\n",
              "    </tr>\n",
              "    <tr>\n",
              "      <th>2015-01-19</th>\n",
              "      <td>NaN</td>\n",
              "    </tr>\n",
              "    <tr>\n",
              "      <th>2015-02-16</th>\n",
              "      <td>NaN</td>\n",
              "    </tr>\n",
              "    <tr>\n",
              "      <th>2015-04-03</th>\n",
              "      <td>NaN</td>\n",
              "    </tr>\n",
              "    <tr>\n",
              "      <th>2015-05-25</th>\n",
              "      <td>NaN</td>\n",
              "    </tr>\n",
              "    <tr>\n",
              "      <th>2015-07-03</th>\n",
              "      <td>NaN</td>\n",
              "    </tr>\n",
              "    <tr>\n",
              "      <th>2015-09-07</th>\n",
              "      <td>NaN</td>\n",
              "    </tr>\n",
              "    <tr>\n",
              "      <th>2015-11-26</th>\n",
              "      <td>NaN</td>\n",
              "    </tr>\n",
              "    <tr>\n",
              "      <th>2015-12-25</th>\n",
              "      <td>NaN</td>\n",
              "    </tr>\n",
              "    <tr>\n",
              "      <th>2016-01-01</th>\n",
              "      <td>NaN</td>\n",
              "    </tr>\n",
              "    <tr>\n",
              "      <th>2016-01-18</th>\n",
              "      <td>NaN</td>\n",
              "    </tr>\n",
              "    <tr>\n",
              "      <th>2016-02-15</th>\n",
              "      <td>NaN</td>\n",
              "    </tr>\n",
              "    <tr>\n",
              "      <th>2016-03-25</th>\n",
              "      <td>NaN</td>\n",
              "    </tr>\n",
              "    <tr>\n",
              "      <th>2016-05-30</th>\n",
              "      <td>NaN</td>\n",
              "    </tr>\n",
              "    <tr>\n",
              "      <th>2016-07-04</th>\n",
              "      <td>NaN</td>\n",
              "    </tr>\n",
              "    <tr>\n",
              "      <th>2016-09-05</th>\n",
              "      <td>NaN</td>\n",
              "    </tr>\n",
              "    <tr>\n",
              "      <th>2016-11-24</th>\n",
              "      <td>NaN</td>\n",
              "    </tr>\n",
              "    <tr>\n",
              "      <th>2016-12-26</th>\n",
              "      <td>NaN</td>\n",
              "    </tr>\n",
              "  </tbody>\n",
              "</table>\n",
              "</div>"
            ],
            "text/plain": [
              "            Close\n",
              "Date             \n",
              "2014-01-20    NaN\n",
              "2014-02-17    NaN\n",
              "2014-04-18    NaN\n",
              "2014-05-26    NaN\n",
              "2014-07-04    NaN\n",
              "2014-09-01    NaN\n",
              "2014-11-27    NaN\n",
              "2014-12-25    NaN\n",
              "2015-01-01    NaN\n",
              "2015-01-19    NaN\n",
              "2015-02-16    NaN\n",
              "2015-04-03    NaN\n",
              "2015-05-25    NaN\n",
              "2015-07-03    NaN\n",
              "2015-09-07    NaN\n",
              "2015-11-26    NaN\n",
              "2015-12-25    NaN\n",
              "2016-01-01    NaN\n",
              "2016-01-18    NaN\n",
              "2016-02-15    NaN\n",
              "2016-03-25    NaN\n",
              "2016-05-30    NaN\n",
              "2016-07-04    NaN\n",
              "2016-09-05    NaN\n",
              "2016-11-24    NaN\n",
              "2016-12-26    NaN"
            ]
          },
          "metadata": {
            "tags": []
          },
          "execution_count": 134
        }
      ]
    },
    {
      "cell_type": "markdown",
      "metadata": {
        "id": "r8ATcehJkIqW"
      },
      "source": [
        "The result shows that these business days were not trading days."
      ]
    },
    {
      "cell_type": "code",
      "metadata": {
        "colab": {
          "base_uri": "https://localhost:8080/"
        },
        "id": "94ZlS_L3h33f",
        "outputId": "5341013e-ed7f-416c-fe22-e5a8a377b45f"
      },
      "source": [
        "google = google.dropna(axis=0)\r\n",
        "google.info()"
      ],
      "execution_count": 135,
      "outputs": [
        {
          "output_type": "stream",
          "text": [
            "<class 'pandas.core.frame.DataFrame'>\n",
            "DatetimeIndex: 756 entries, 2014-01-02 to 2016-12-30\n",
            "Data columns (total 1 columns):\n",
            " #   Column  Non-Null Count  Dtype  \n",
            "---  ------  --------------  -----  \n",
            " 0   Close   756 non-null    float64\n",
            "dtypes: float64(1)\n",
            "memory usage: 11.8 KB\n"
          ],
          "name": "stdout"
        }
      ]
    },
    {
      "cell_type": "markdown",
      "metadata": {
        "id": "sngl-QXTkX10"
      },
      "source": [
        "####2.25 Plotting the data"
      ]
    },
    {
      "cell_type": "code",
      "metadata": {
        "colab": {
          "base_uri": "https://localhost:8080/",
          "height": 277
        },
        "id": "kzfxLW53h9Ub",
        "outputId": "7fd102e0-9067-4e34-a96f-2ef711c9021f"
      },
      "source": [
        "google.plot()\r\n",
        "plt.show()"
      ],
      "execution_count": 136,
      "outputs": [
        {
          "output_type": "display_data",
          "data": {
            "image/png": "[encoded data removed]",
            "text/plain": [
              "<Figure size 432x288 with 1 Axes>"
            ]
          },
          "metadata": {
            "tags": [],
            "needs_background": "light"
          }
        }
      ]
    },
    {
      "cell_type": "code",
      "metadata": {
        "id": "uDB774pUiI3l"
      },
      "source": [
        "google_d = google.asfreq('D')  #google_d -- time series with calender days frequency\r\n",
        "google_m = google.asfreq('M')  #google_m -- time series with monthly frequency"
      ],
      "execution_count": 137,
      "outputs": []
    },
    {
      "cell_type": "code",
      "metadata": {
        "colab": {
          "base_uri": "https://localhost:8080/"
        },
        "id": "frpfgaEQiaSv",
        "outputId": "b6fb863a-0809-4dcb-b503-48c6ad5b348c"
      },
      "source": [
        "google_d.info()  #Inspecting the data"
      ],
      "execution_count": 138,
      "outputs": [
        {
          "output_type": "stream",
          "text": [
            "<class 'pandas.core.frame.DataFrame'>\n",
            "DatetimeIndex: 1094 entries, 2014-01-02 to 2016-12-30\n",
            "Freq: D\n",
            "Data columns (total 1 columns):\n",
            " #   Column  Non-Null Count  Dtype  \n",
            "---  ------  --------------  -----  \n",
            " 0   Close   756 non-null    float64\n",
            "dtypes: float64(1)\n",
            "memory usage: 17.1 KB\n"
          ],
          "name": "stdout"
        }
      ]
    },
    {
      "cell_type": "code",
      "metadata": {
        "colab": {
          "base_uri": "https://localhost:8080/"
        },
        "id": "MmlZPCLhidKM",
        "outputId": "a8781357-0a6a-443c-a571-18439746e673"
      },
      "source": [
        "google_m.info()  #Inspecting the data"
      ],
      "execution_count": 139,
      "outputs": [
        {
          "output_type": "stream",
          "text": [
            "<class 'pandas.core.frame.DataFrame'>\n",
            "DatetimeIndex: 35 entries, 2014-01-31 to 2016-11-30\n",
            "Freq: M\n",
            "Data columns (total 1 columns):\n",
            " #   Column  Non-Null Count  Dtype  \n",
            "---  ------  --------------  -----  \n",
            " 0   Close   25 non-null     float64\n",
            "dtypes: float64(1)\n",
            "memory usage: 560.0 bytes\n"
          ],
          "name": "stdout"
        }
      ]
    },
    {
      "cell_type": "code",
      "metadata": {
        "colab": {
          "base_uri": "https://localhost:8080/",
          "height": 319
        },
        "id": "5lCdGpO6igHf",
        "outputId": "647e1bf3-90a3-4c9a-950f-c5f5b5d5a702"
      },
      "source": [
        "#Plotting both time-series data\r\n",
        "fig, (ax1, ax2) = plt.subplots(1,2, figsize=[15,5])\r\n",
        "google_d.plot(ax=ax1)\r\n",
        "google_m.plot(ax=ax2)\r\n",
        "plt.show()"
      ],
      "execution_count": 140,
      "outputs": [
        {
          "output_type": "display_data",
          "data": {
            "image/png": "[encoded data removed]",
            "text/plain": [
              "<Figure size 1080x360 with 2 Axes>"
            ]
          },
          "metadata": {
            "tags": [],
            "needs_background": "light"
          }
        }
      ]
    },
    {
      "cell_type": "markdown",
      "metadata": {
        "id": "UiNXXKO_jWz_"
      },
      "source": [
        "##3 Lags, Changes & Returns"
      ]
    },
    {
      "cell_type": "markdown",
      "metadata": {
        "id": "RxyNpXL-lUv4"
      },
      "source": [
        "What do you mean by Time series calculations ?\r\n",
        "\r\n",
        "Typical Time Series manipulations include - \r\n",
        "1.  Shift or lag values back or forward back in time.\r\n",
        "2.  Get the difference in value for a given time period.\r\n",
        "3.  Compute the percent change over any number of periods."
      ]
    },
    {
      "cell_type": "markdown",
      "metadata": {
        "id": "dqxumU-elCcN"
      },
      "source": [
        "###3.1 Loading the dataset\r\n",
        "Parsing `Date` string to convert it into convert `datetime64` and setting it as index column."
      ]
    },
    {
      "cell_type": "code",
      "metadata": {
        "id": "NZujAIl5k541"
      },
      "source": [
        "google = pd.read_csv('google.csv', parse_dates=['Date'], index_col='Date')\r\n",
        "google.dropna(axis=0, inplace=True) #Dropping the null values from the dataset"
      ],
      "execution_count": 141,
      "outputs": []
    },
    {
      "cell_type": "markdown",
      "metadata": {
        "id": "4bxoFnjilLbB"
      },
      "source": [
        "###3.2 Inspecting the data"
      ]
    },
    {
      "cell_type": "code",
      "metadata": {
        "colab": {
          "base_uri": "https://localhost:8080/"
        },
        "id": "NXlS8WayjdqN",
        "outputId": "69e4c28d-4f54-4a8d-a137-af621addb5b8"
      },
      "source": [
        "google.info()"
      ],
      "execution_count": 142,
      "outputs": [
        {
          "output_type": "stream",
          "text": [
            "<class 'pandas.core.frame.DataFrame'>\n",
            "DatetimeIndex: 756 entries, 2014-01-02 to 2016-12-30\n",
            "Data columns (total 1 columns):\n",
            " #   Column  Non-Null Count  Dtype  \n",
            "---  ------  --------------  -----  \n",
            " 0   Close   756 non-null    float64\n",
            "dtypes: float64(1)\n",
            "memory usage: 11.8 KB\n"
          ],
          "name": "stdout"
        }
      ]
    },
    {
      "cell_type": "code",
      "metadata": {
        "colab": {
          "base_uri": "https://localhost:8080/",
          "height": 233
        },
        "id": "8nSSrDEejwAu",
        "outputId": "bff37b07-c1e3-4659-c7c6-ef7d0d642233"
      },
      "source": [
        "google.head()"
      ],
      "execution_count": 143,
      "outputs": [
        {
          "output_type": "execute_result",
          "data": {
            "text/html": [
              "<div>\n",
              "<style scoped>\n",
              "    .dataframe tbody tr th:only-of-type {\n",
              "        vertical-align: middle;\n",
              "    }\n",
              "\n",
              "    .dataframe tbody tr th {\n",
              "        vertical-align: top;\n",
              "    }\n",
              "\n",
              "    .dataframe thead th {\n",
              "        text-align: right;\n",
              "    }\n",
              "</style>\n",
              "<table border=\"1\" class=\"dataframe\">\n",
              "  <thead>\n",
              "    <tr style=\"text-align: right;\">\n",
              "      <th></th>\n",
              "      <th>Close</th>\n",
              "    </tr>\n",
              "    <tr>\n",
              "      <th>Date</th>\n",
              "      <th></th>\n",
              "    </tr>\n",
              "  </thead>\n",
              "  <tbody>\n",
              "    <tr>\n",
              "      <th>2014-01-02</th>\n",
              "      <td>556.00</td>\n",
              "    </tr>\n",
              "    <tr>\n",
              "      <th>2014-01-03</th>\n",
              "      <td>551.95</td>\n",
              "    </tr>\n",
              "    <tr>\n",
              "      <th>2014-01-06</th>\n",
              "      <td>558.10</td>\n",
              "    </tr>\n",
              "    <tr>\n",
              "      <th>2014-01-07</th>\n",
              "      <td>568.86</td>\n",
              "    </tr>\n",
              "    <tr>\n",
              "      <th>2014-01-08</th>\n",
              "      <td>570.04</td>\n",
              "    </tr>\n",
              "  </tbody>\n",
              "</table>\n",
              "</div>"
            ],
            "text/plain": [
              "             Close\n",
              "Date              \n",
              "2014-01-02  556.00\n",
              "2014-01-03  551.95\n",
              "2014-01-06  558.10\n",
              "2014-01-07  568.86\n",
              "2014-01-08  570.04"
            ]
          },
          "metadata": {
            "tags": []
          },
          "execution_count": 143
        }
      ]
    },
    {
      "cell_type": "markdown",
      "metadata": {
        "id": "CmgF_aG_mE-i"
      },
      "source": [
        "###3.3 Data Manipulations"
      ]
    },
    {
      "cell_type": "markdown",
      "metadata": {
        "id": "pM-qGR_hmImw"
      },
      "source": [
        "####3.31 `.shift()` -- Moving data between past & future.\r\n",
        "\r\n",
        "Attributes -- \r\n",
        "1.  defaults to `periods=1`\r\n",
        "2.  1 period into future."
      ]
    },
    {
      "cell_type": "code",
      "metadata": {
        "colab": {
          "base_uri": "https://localhost:8080/",
          "height": 233
        },
        "id": "wu2uveR_j5kf",
        "outputId": "97ca5831-70a3-4388-d841-6811f68980ee"
      },
      "source": [
        "google['Shifted'] = google.shift(periods=1)\r\n",
        "google.head()"
      ],
      "execution_count": 144,
      "outputs": [
        {
          "output_type": "execute_result",
          "data": {
            "text/html": [
              "<div>\n",
              "<style scoped>\n",
              "    .dataframe tbody tr th:only-of-type {\n",
              "        vertical-align: middle;\n",
              "    }\n",
              "\n",
              "    .dataframe tbody tr th {\n",
              "        vertical-align: top;\n",
              "    }\n",
              "\n",
              "    .dataframe thead th {\n",
              "        text-align: right;\n",
              "    }\n",
              "</style>\n",
              "<table border=\"1\" class=\"dataframe\">\n",
              "  <thead>\n",
              "    <tr style=\"text-align: right;\">\n",
              "      <th></th>\n",
              "      <th>Close</th>\n",
              "      <th>Shifted</th>\n",
              "    </tr>\n",
              "    <tr>\n",
              "      <th>Date</th>\n",
              "      <th></th>\n",
              "      <th></th>\n",
              "    </tr>\n",
              "  </thead>\n",
              "  <tbody>\n",
              "    <tr>\n",
              "      <th>2014-01-02</th>\n",
              "      <td>556.00</td>\n",
              "      <td>NaN</td>\n",
              "    </tr>\n",
              "    <tr>\n",
              "      <th>2014-01-03</th>\n",
              "      <td>551.95</td>\n",
              "      <td>556.00</td>\n",
              "    </tr>\n",
              "    <tr>\n",
              "      <th>2014-01-06</th>\n",
              "      <td>558.10</td>\n",
              "      <td>551.95</td>\n",
              "    </tr>\n",
              "    <tr>\n",
              "      <th>2014-01-07</th>\n",
              "      <td>568.86</td>\n",
              "      <td>558.10</td>\n",
              "    </tr>\n",
              "    <tr>\n",
              "      <th>2014-01-08</th>\n",
              "      <td>570.04</td>\n",
              "      <td>568.86</td>\n",
              "    </tr>\n",
              "  </tbody>\n",
              "</table>\n",
              "</div>"
            ],
            "text/plain": [
              "             Close  Shifted\n",
              "Date                       \n",
              "2014-01-02  556.00      NaN\n",
              "2014-01-03  551.95   556.00\n",
              "2014-01-06  558.10   551.95\n",
              "2014-01-07  568.86   558.10\n",
              "2014-01-08  570.04   568.86"
            ]
          },
          "metadata": {
            "tags": []
          },
          "execution_count": 144
        }
      ]
    },
    {
      "cell_type": "markdown",
      "metadata": {
        "id": "CTKSPRfNIIL1"
      },
      "source": [
        "####3.32 `.shift(periods=-1)`\r\n",
        "\r\n",
        "1.  Lagged data\r\n",
        "2.  1 period back in time"
      ]
    },
    {
      "cell_type": "code",
      "metadata": {
        "colab": {
          "base_uri": "https://localhost:8080/",
          "height": 233
        },
        "id": "vfdkihJJkf8n",
        "outputId": "1127f607-19eb-44a5-a759-19aef62e1fb7"
      },
      "source": [
        "google['Lagged'] = google.Close.shift(periods=-1)\r\n",
        "google.tail()"
      ],
      "execution_count": 145,
      "outputs": [
        {
          "output_type": "execute_result",
          "data": {
            "text/html": [
              "<div>\n",
              "<style scoped>\n",
              "    .dataframe tbody tr th:only-of-type {\n",
              "        vertical-align: middle;\n",
              "    }\n",
              "\n",
              "    .dataframe tbody tr th {\n",
              "        vertical-align: top;\n",
              "    }\n",
              "\n",
              "    .dataframe thead th {\n",
              "        text-align: right;\n",
              "    }\n",
              "</style>\n",
              "<table border=\"1\" class=\"dataframe\">\n",
              "  <thead>\n",
              "    <tr style=\"text-align: right;\">\n",
              "      <th></th>\n",
              "      <th>Close</th>\n",
              "      <th>Shifted</th>\n",
              "      <th>Lagged</th>\n",
              "    </tr>\n",
              "    <tr>\n",
              "      <th>Date</th>\n",
              "      <th></th>\n",
              "      <th></th>\n",
              "      <th></th>\n",
              "    </tr>\n",
              "  </thead>\n",
              "  <tbody>\n",
              "    <tr>\n",
              "      <th>2016-12-23</th>\n",
              "      <td>789.91</td>\n",
              "      <td>791.26</td>\n",
              "      <td>791.55</td>\n",
              "    </tr>\n",
              "    <tr>\n",
              "      <th>2016-12-27</th>\n",
              "      <td>791.55</td>\n",
              "      <td>789.91</td>\n",
              "      <td>785.05</td>\n",
              "    </tr>\n",
              "    <tr>\n",
              "      <th>2016-12-28</th>\n",
              "      <td>785.05</td>\n",
              "      <td>791.55</td>\n",
              "      <td>782.79</td>\n",
              "    </tr>\n",
              "    <tr>\n",
              "      <th>2016-12-29</th>\n",
              "      <td>782.79</td>\n",
              "      <td>785.05</td>\n",
              "      <td>771.82</td>\n",
              "    </tr>\n",
              "    <tr>\n",
              "      <th>2016-12-30</th>\n",
              "      <td>771.82</td>\n",
              "      <td>782.79</td>\n",
              "      <td>NaN</td>\n",
              "    </tr>\n",
              "  </tbody>\n",
              "</table>\n",
              "</div>"
            ],
            "text/plain": [
              "             Close  Shifted  Lagged\n",
              "Date                               \n",
              "2016-12-23  789.91   791.26  791.55\n",
              "2016-12-27  791.55   789.91  785.05\n",
              "2016-12-28  785.05   791.55  782.79\n",
              "2016-12-29  782.79   785.05  771.82\n",
              "2016-12-30  771.82   782.79     NaN"
            ]
          },
          "metadata": {
            "tags": []
          },
          "execution_count": 145
        }
      ]
    },
    {
      "cell_type": "markdown",
      "metadata": {
        "id": "kdJzAC25IbAb"
      },
      "source": [
        "####3.33 One-period percent change\r\n",
        "\r\n",
        "`X(t)` / `X(t-1)`"
      ]
    },
    {
      "cell_type": "code",
      "metadata": {
        "colab": {
          "base_uri": "https://localhost:8080/",
          "height": 233
        },
        "id": "O4tI4EQTlwgh",
        "outputId": "3dd78db7-875c-4bf9-9150-efe33dd100c9"
      },
      "source": [
        "google['Change'] = google.Close.div(google.Shifted)\r\n",
        "google.head()"
      ],
      "execution_count": 146,
      "outputs": [
        {
          "output_type": "execute_result",
          "data": {
            "text/html": [
              "<div>\n",
              "<style scoped>\n",
              "    .dataframe tbody tr th:only-of-type {\n",
              "        vertical-align: middle;\n",
              "    }\n",
              "\n",
              "    .dataframe tbody tr th {\n",
              "        vertical-align: top;\n",
              "    }\n",
              "\n",
              "    .dataframe thead th {\n",
              "        text-align: right;\n",
              "    }\n",
              "</style>\n",
              "<table border=\"1\" class=\"dataframe\">\n",
              "  <thead>\n",
              "    <tr style=\"text-align: right;\">\n",
              "      <th></th>\n",
              "      <th>Close</th>\n",
              "      <th>Shifted</th>\n",
              "      <th>Lagged</th>\n",
              "      <th>Change</th>\n",
              "    </tr>\n",
              "    <tr>\n",
              "      <th>Date</th>\n",
              "      <th></th>\n",
              "      <th></th>\n",
              "      <th></th>\n",
              "      <th></th>\n",
              "    </tr>\n",
              "  </thead>\n",
              "  <tbody>\n",
              "    <tr>\n",
              "      <th>2014-01-02</th>\n",
              "      <td>556.00</td>\n",
              "      <td>NaN</td>\n",
              "      <td>551.95</td>\n",
              "      <td>NaN</td>\n",
              "    </tr>\n",
              "    <tr>\n",
              "      <th>2014-01-03</th>\n",
              "      <td>551.95</td>\n",
              "      <td>556.00</td>\n",
              "      <td>558.10</td>\n",
              "      <td>0.992716</td>\n",
              "    </tr>\n",
              "    <tr>\n",
              "      <th>2014-01-06</th>\n",
              "      <td>558.10</td>\n",
              "      <td>551.95</td>\n",
              "      <td>568.86</td>\n",
              "      <td>1.011142</td>\n",
              "    </tr>\n",
              "    <tr>\n",
              "      <th>2014-01-07</th>\n",
              "      <td>568.86</td>\n",
              "      <td>558.10</td>\n",
              "      <td>570.04</td>\n",
              "      <td>1.019280</td>\n",
              "    </tr>\n",
              "    <tr>\n",
              "      <th>2014-01-08</th>\n",
              "      <td>570.04</td>\n",
              "      <td>568.86</td>\n",
              "      <td>564.55</td>\n",
              "      <td>1.002074</td>\n",
              "    </tr>\n",
              "  </tbody>\n",
              "</table>\n",
              "</div>"
            ],
            "text/plain": [
              "             Close  Shifted  Lagged    Change\n",
              "Date                                         \n",
              "2014-01-02  556.00      NaN  551.95       NaN\n",
              "2014-01-03  551.95   556.00  558.10  0.992716\n",
              "2014-01-06  558.10   551.95  568.86  1.011142\n",
              "2014-01-07  568.86   558.10  570.04  1.019280\n",
              "2014-01-08  570.04   568.86  564.55  1.002074"
            ]
          },
          "metadata": {
            "tags": []
          },
          "execution_count": 146
        }
      ]
    },
    {
      "cell_type": "code",
      "metadata": {
        "colab": {
          "base_uri": "https://localhost:8080/",
          "height": 233
        },
        "id": "mbZaqBrnmSGl",
        "outputId": "fadfdeee-be72-4c37-a735-7d9a28e0e969"
      },
      "source": [
        "google['Return'] = google.Change.sub(1).mul(100)\r\n",
        "google.head()"
      ],
      "execution_count": 147,
      "outputs": [
        {
          "output_type": "execute_result",
          "data": {
            "text/html": [
              "<div>\n",
              "<style scoped>\n",
              "    .dataframe tbody tr th:only-of-type {\n",
              "        vertical-align: middle;\n",
              "    }\n",
              "\n",
              "    .dataframe tbody tr th {\n",
              "        vertical-align: top;\n",
              "    }\n",
              "\n",
              "    .dataframe thead th {\n",
              "        text-align: right;\n",
              "    }\n",
              "</style>\n",
              "<table border=\"1\" class=\"dataframe\">\n",
              "  <thead>\n",
              "    <tr style=\"text-align: right;\">\n",
              "      <th></th>\n",
              "      <th>Close</th>\n",
              "      <th>Shifted</th>\n",
              "      <th>Lagged</th>\n",
              "      <th>Change</th>\n",
              "      <th>Return</th>\n",
              "    </tr>\n",
              "    <tr>\n",
              "      <th>Date</th>\n",
              "      <th></th>\n",
              "      <th></th>\n",
              "      <th></th>\n",
              "      <th></th>\n",
              "      <th></th>\n",
              "    </tr>\n",
              "  </thead>\n",
              "  <tbody>\n",
              "    <tr>\n",
              "      <th>2014-01-02</th>\n",
              "      <td>556.00</td>\n",
              "      <td>NaN</td>\n",
              "      <td>551.95</td>\n",
              "      <td>NaN</td>\n",
              "      <td>NaN</td>\n",
              "    </tr>\n",
              "    <tr>\n",
              "      <th>2014-01-03</th>\n",
              "      <td>551.95</td>\n",
              "      <td>556.00</td>\n",
              "      <td>558.10</td>\n",
              "      <td>0.992716</td>\n",
              "      <td>-0.728417</td>\n",
              "    </tr>\n",
              "    <tr>\n",
              "      <th>2014-01-06</th>\n",
              "      <td>558.10</td>\n",
              "      <td>551.95</td>\n",
              "      <td>568.86</td>\n",
              "      <td>1.011142</td>\n",
              "      <td>1.114231</td>\n",
              "    </tr>\n",
              "    <tr>\n",
              "      <th>2014-01-07</th>\n",
              "      <td>568.86</td>\n",
              "      <td>558.10</td>\n",
              "      <td>570.04</td>\n",
              "      <td>1.019280</td>\n",
              "      <td>1.927970</td>\n",
              "    </tr>\n",
              "    <tr>\n",
              "      <th>2014-01-08</th>\n",
              "      <td>570.04</td>\n",
              "      <td>568.86</td>\n",
              "      <td>564.55</td>\n",
              "      <td>1.002074</td>\n",
              "      <td>0.207432</td>\n",
              "    </tr>\n",
              "  </tbody>\n",
              "</table>\n",
              "</div>"
            ],
            "text/plain": [
              "             Close  Shifted  Lagged    Change    Return\n",
              "Date                                                   \n",
              "2014-01-02  556.00      NaN  551.95       NaN       NaN\n",
              "2014-01-03  551.95   556.00  558.10  0.992716 -0.728417\n",
              "2014-01-06  558.10   551.95  568.86  1.011142  1.114231\n",
              "2014-01-07  568.86   558.10  570.04  1.019280  1.927970\n",
              "2014-01-08  570.04   568.86  564.55  1.002074  0.207432"
            ]
          },
          "metadata": {
            "tags": []
          },
          "execution_count": 147
        }
      ]
    },
    {
      "cell_type": "markdown",
      "metadata": {
        "id": "v5f_0ZxcIyIV"
      },
      "source": [
        "####3.34 `.diff()` -- built in time series change\r\n",
        "\r\n",
        "1.  Difference in value for 2 adjacent periods.\r\n",
        "2.  `X(t)` - `X(t-1)`"
      ]
    },
    {
      "cell_type": "code",
      "metadata": {
        "colab": {
          "base_uri": "https://localhost:8080/",
          "height": 233
        },
        "id": "VH9eTYDhnYBX",
        "outputId": "fdc1d11e-85d1-45b8-f152-34cf70be9232"
      },
      "source": [
        "google['Diff'] = google.Close.diff()\r\n",
        "google.head()"
      ],
      "execution_count": 148,
      "outputs": [
        {
          "output_type": "execute_result",
          "data": {
            "text/html": [
              "<div>\n",
              "<style scoped>\n",
              "    .dataframe tbody tr th:only-of-type {\n",
              "        vertical-align: middle;\n",
              "    }\n",
              "\n",
              "    .dataframe tbody tr th {\n",
              "        vertical-align: top;\n",
              "    }\n",
              "\n",
              "    .dataframe thead th {\n",
              "        text-align: right;\n",
              "    }\n",
              "</style>\n",
              "<table border=\"1\" class=\"dataframe\">\n",
              "  <thead>\n",
              "    <tr style=\"text-align: right;\">\n",
              "      <th></th>\n",
              "      <th>Close</th>\n",
              "      <th>Shifted</th>\n",
              "      <th>Lagged</th>\n",
              "      <th>Change</th>\n",
              "      <th>Return</th>\n",
              "      <th>Diff</th>\n",
              "    </tr>\n",
              "    <tr>\n",
              "      <th>Date</th>\n",
              "      <th></th>\n",
              "      <th></th>\n",
              "      <th></th>\n",
              "      <th></th>\n",
              "      <th></th>\n",
              "      <th></th>\n",
              "    </tr>\n",
              "  </thead>\n",
              "  <tbody>\n",
              "    <tr>\n",
              "      <th>2014-01-02</th>\n",
              "      <td>556.00</td>\n",
              "      <td>NaN</td>\n",
              "      <td>551.95</td>\n",
              "      <td>NaN</td>\n",
              "      <td>NaN</td>\n",
              "      <td>NaN</td>\n",
              "    </tr>\n",
              "    <tr>\n",
              "      <th>2014-01-03</th>\n",
              "      <td>551.95</td>\n",
              "      <td>556.00</td>\n",
              "      <td>558.10</td>\n",
              "      <td>0.992716</td>\n",
              "      <td>-0.728417</td>\n",
              "      <td>-4.05</td>\n",
              "    </tr>\n",
              "    <tr>\n",
              "      <th>2014-01-06</th>\n",
              "      <td>558.10</td>\n",
              "      <td>551.95</td>\n",
              "      <td>568.86</td>\n",
              "      <td>1.011142</td>\n",
              "      <td>1.114231</td>\n",
              "      <td>6.15</td>\n",
              "    </tr>\n",
              "    <tr>\n",
              "      <th>2014-01-07</th>\n",
              "      <td>568.86</td>\n",
              "      <td>558.10</td>\n",
              "      <td>570.04</td>\n",
              "      <td>1.019280</td>\n",
              "      <td>1.927970</td>\n",
              "      <td>10.76</td>\n",
              "    </tr>\n",
              "    <tr>\n",
              "      <th>2014-01-08</th>\n",
              "      <td>570.04</td>\n",
              "      <td>568.86</td>\n",
              "      <td>564.55</td>\n",
              "      <td>1.002074</td>\n",
              "      <td>0.207432</td>\n",
              "      <td>1.18</td>\n",
              "    </tr>\n",
              "  </tbody>\n",
              "</table>\n",
              "</div>"
            ],
            "text/plain": [
              "             Close  Shifted  Lagged    Change    Return   Diff\n",
              "Date                                                          \n",
              "2014-01-02  556.00      NaN  551.95       NaN       NaN    NaN\n",
              "2014-01-03  551.95   556.00  558.10  0.992716 -0.728417  -4.05\n",
              "2014-01-06  558.10   551.95  568.86  1.011142  1.114231   6.15\n",
              "2014-01-07  568.86   558.10  570.04  1.019280  1.927970  10.76\n",
              "2014-01-08  570.04   568.86  564.55  1.002074  0.207432   1.18"
            ]
          },
          "metadata": {
            "tags": []
          },
          "execution_count": 148
        }
      ]
    },
    {
      "cell_type": "markdown",
      "metadata": {
        "id": "3ejERF95JIx7"
      },
      "source": [
        "####3.35 `.pct_change()` - built in time series percent change\r\n",
        "\r\n",
        "1.  Percent change for 2 adjacent periods.\r\n",
        "2.  `X(t)` / `X(t-1)`"
      ]
    },
    {
      "cell_type": "code",
      "metadata": {
        "colab": {
          "base_uri": "https://localhost:8080/",
          "height": 233
        },
        "id": "rfd4aHLPn0w3",
        "outputId": "28ad4369-b957-4c1f-ec7c-e808a77df813"
      },
      "source": [
        "google['Pct_change'] = google.Close.pct_change().mul(100)\r\n",
        "google.head()"
      ],
      "execution_count": 149,
      "outputs": [
        {
          "output_type": "execute_result",
          "data": {
            "text/html": [
              "<div>\n",
              "<style scoped>\n",
              "    .dataframe tbody tr th:only-of-type {\n",
              "        vertical-align: middle;\n",
              "    }\n",
              "\n",
              "    .dataframe tbody tr th {\n",
              "        vertical-align: top;\n",
              "    }\n",
              "\n",
              "    .dataframe thead th {\n",
              "        text-align: right;\n",
              "    }\n",
              "</style>\n",
              "<table border=\"1\" class=\"dataframe\">\n",
              "  <thead>\n",
              "    <tr style=\"text-align: right;\">\n",
              "      <th></th>\n",
              "      <th>Close</th>\n",
              "      <th>Shifted</th>\n",
              "      <th>Lagged</th>\n",
              "      <th>Change</th>\n",
              "      <th>Return</th>\n",
              "      <th>Diff</th>\n",
              "      <th>Pct_change</th>\n",
              "    </tr>\n",
              "    <tr>\n",
              "      <th>Date</th>\n",
              "      <th></th>\n",
              "      <th></th>\n",
              "      <th></th>\n",
              "      <th></th>\n",
              "      <th></th>\n",
              "      <th></th>\n",
              "      <th></th>\n",
              "    </tr>\n",
              "  </thead>\n",
              "  <tbody>\n",
              "    <tr>\n",
              "      <th>2014-01-02</th>\n",
              "      <td>556.00</td>\n",
              "      <td>NaN</td>\n",
              "      <td>551.95</td>\n",
              "      <td>NaN</td>\n",
              "      <td>NaN</td>\n",
              "      <td>NaN</td>\n",
              "      <td>NaN</td>\n",
              "    </tr>\n",
              "    <tr>\n",
              "      <th>2014-01-03</th>\n",
              "      <td>551.95</td>\n",
              "      <td>556.00</td>\n",
              "      <td>558.10</td>\n",
              "      <td>0.992716</td>\n",
              "      <td>-0.728417</td>\n",
              "      <td>-4.05</td>\n",
              "      <td>-0.728417</td>\n",
              "    </tr>\n",
              "    <tr>\n",
              "      <th>2014-01-06</th>\n",
              "      <td>558.10</td>\n",
              "      <td>551.95</td>\n",
              "      <td>568.86</td>\n",
              "      <td>1.011142</td>\n",
              "      <td>1.114231</td>\n",
              "      <td>6.15</td>\n",
              "      <td>1.114231</td>\n",
              "    </tr>\n",
              "    <tr>\n",
              "      <th>2014-01-07</th>\n",
              "      <td>568.86</td>\n",
              "      <td>558.10</td>\n",
              "      <td>570.04</td>\n",
              "      <td>1.019280</td>\n",
              "      <td>1.927970</td>\n",
              "      <td>10.76</td>\n",
              "      <td>1.927970</td>\n",
              "    </tr>\n",
              "    <tr>\n",
              "      <th>2014-01-08</th>\n",
              "      <td>570.04</td>\n",
              "      <td>568.86</td>\n",
              "      <td>564.55</td>\n",
              "      <td>1.002074</td>\n",
              "      <td>0.207432</td>\n",
              "      <td>1.18</td>\n",
              "      <td>0.207432</td>\n",
              "    </tr>\n",
              "  </tbody>\n",
              "</table>\n",
              "</div>"
            ],
            "text/plain": [
              "             Close  Shifted  Lagged    Change    Return   Diff  Pct_change\n",
              "Date                                                                      \n",
              "2014-01-02  556.00      NaN  551.95       NaN       NaN    NaN         NaN\n",
              "2014-01-03  551.95   556.00  558.10  0.992716 -0.728417  -4.05   -0.728417\n",
              "2014-01-06  558.10   551.95  568.86  1.011142  1.114231   6.15    1.114231\n",
              "2014-01-07  568.86   558.10  570.04  1.019280  1.927970  10.76    1.927970\n",
              "2014-01-08  570.04   568.86  564.55  1.002074  0.207432   1.18    0.207432"
            ]
          },
          "metadata": {
            "tags": []
          },
          "execution_count": 149
        }
      ]
    },
    {
      "cell_type": "markdown",
      "metadata": {
        "id": "74W-fxvLJj9N"
      },
      "source": [
        "####3.36 Multi-period returns\r\n",
        "\r\n",
        "Percent change for 2 periods, 3 trading periods apart."
      ]
    },
    {
      "cell_type": "code",
      "metadata": {
        "colab": {
          "base_uri": "https://localhost:8080/",
          "height": 233
        },
        "id": "uaLIoh3coGOc",
        "outputId": "b6b6319c-8245-45c1-ec65-421d507adaea"
      },
      "source": [
        "google['Return_3d'] = google.Close.pct_change(periods=3).mul(100)\r\n",
        "google[['Close','Return_3d']].head()"
      ],
      "execution_count": 150,
      "outputs": [
        {
          "output_type": "execute_result",
          "data": {
            "text/html": [
              "<div>\n",
              "<style scoped>\n",
              "    .dataframe tbody tr th:only-of-type {\n",
              "        vertical-align: middle;\n",
              "    }\n",
              "\n",
              "    .dataframe tbody tr th {\n",
              "        vertical-align: top;\n",
              "    }\n",
              "\n",
              "    .dataframe thead th {\n",
              "        text-align: right;\n",
              "    }\n",
              "</style>\n",
              "<table border=\"1\" class=\"dataframe\">\n",
              "  <thead>\n",
              "    <tr style=\"text-align: right;\">\n",
              "      <th></th>\n",
              "      <th>Close</th>\n",
              "      <th>Return_3d</th>\n",
              "    </tr>\n",
              "    <tr>\n",
              "      <th>Date</th>\n",
              "      <th></th>\n",
              "      <th></th>\n",
              "    </tr>\n",
              "  </thead>\n",
              "  <tbody>\n",
              "    <tr>\n",
              "      <th>2014-01-02</th>\n",
              "      <td>556.00</td>\n",
              "      <td>NaN</td>\n",
              "    </tr>\n",
              "    <tr>\n",
              "      <th>2014-01-03</th>\n",
              "      <td>551.95</td>\n",
              "      <td>NaN</td>\n",
              "    </tr>\n",
              "    <tr>\n",
              "      <th>2014-01-06</th>\n",
              "      <td>558.10</td>\n",
              "      <td>NaN</td>\n",
              "    </tr>\n",
              "    <tr>\n",
              "      <th>2014-01-07</th>\n",
              "      <td>568.86</td>\n",
              "      <td>2.312950</td>\n",
              "    </tr>\n",
              "    <tr>\n",
              "      <th>2014-01-08</th>\n",
              "      <td>570.04</td>\n",
              "      <td>3.277471</td>\n",
              "    </tr>\n",
              "  </tbody>\n",
              "</table>\n",
              "</div>"
            ],
            "text/plain": [
              "             Close  Return_3d\n",
              "Date                         \n",
              "2014-01-02  556.00        NaN\n",
              "2014-01-03  551.95        NaN\n",
              "2014-01-06  558.10        NaN\n",
              "2014-01-07  568.86   2.312950\n",
              "2014-01-08  570.04   3.277471"
            ]
          },
          "metadata": {
            "tags": []
          },
          "execution_count": 150
        }
      ]
    },
    {
      "cell_type": "markdown",
      "metadata": {
        "id": "c0gqM2PvKXit"
      },
      "source": [
        "## Conclusion\r\n",
        "\r\n",
        "In this jupyter notebook, we have learnt how to create and manipulate date information and time series, and how to do calculations with time-aware DataFrames to shift the data in time or create period specific returns."
      ]
    }
  ]
}